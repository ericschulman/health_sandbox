{
 "cells": [
  {
   "cell_type": "code",
   "execution_count": 1,
   "id": "8bed8808",
   "metadata": {},
   "outputs": [],
   "source": [
    "import pandas as pd\n",
    "import numpy as np\n",
    "import matplotlib.pylab as plt\n",
    "import random\n",
    "\n",
    "from xgboost import plot_importance\n",
    "from xgboost import XGBRegressor\n",
    "import statsmodels.api as sm\n",
    "\n",
    "from sklearn.model_selection import train_test_split\n",
    "from sklearn.model_selection import KFold"
   ]
  },
  {
   "cell_type": "code",
   "execution_count": 2,
   "id": "40572c2e",
   "metadata": {
    "scrolled": false
   },
   "outputs": [],
   "source": [
    "df = pd.read_csv('../data/processed_data/merged_characteristics.csv')\n",
    "\n",
    "########create mkt share data for logit\n",
    "logit_keys = ['market_ids', 'product_ids', 'firm_ids', 'shares', 'prices', 'demand_instruments0']\n",
    "nonlinear_cols = ['EHBPercentTotalPremium']\n",
    "linear_cols = [ 'act_value','MetalLevel_Platinum', 'MetalLevel_Silver','Plan Counts']\n",
    "mkt_cols = [ 'DP05_0015PE' ,'DP05_0069PE','S1701_C01_017E','StateCodeFL'] \n",
    "firm_cols =  linear_cols+ nonlinear_cols   \n",
    "logit_x_cols = firm_cols + mkt_cols + ['DP03_0095E']\n",
    "\n",
    "\n",
    "############keys for boosted trees...\n",
    "keys = ['HIOS ID', 'IssuerId', 'County', 'State', 'FIPS County Code', 'Policy County FIPS Code','County Name']\n",
    "missing_cols = ['DP05_0028PE', 'Number of Consumers with CSR AV of 87%', \n",
    "                'Average Monthly Advanced CSR Payment for Consumers with 87%', \n",
    "                'DP05_0018PE', 'Number of Consumers with CSR (AV of 73%/87%/94%)', 'Total Number of Consumers',\n",
    "                'Number of Consumers with CSR AV of 73%', 'Number of Consumers with CSR AV of 94%','FIPS County Code',\n",
    "                'Average Monthly Advanced CSR Payment for Consumers with 73%', \n",
    "                'Average Monthly Advanced CSR Payment for Consumers with 94%', \n",
    "                'DP05_0032PE', 'DP05_0004PE', 'County Name']\n",
    "\n",
    "#setup y\n",
    "y_cols = ['Ever Enrolled Count']\n",
    "keys = ['HIOS ID', 'IssuerId', 'County', 'State', 'FIPS County Code', 'Policy County FIPS Code','County Name']"
   ]
  },
  {
   "cell_type": "code",
   "execution_count": 3,
   "id": "a972075d",
   "metadata": {},
   "outputs": [
    {
     "name": "stdout",
     "output_type": "stream",
     "text": [
      "142.14997349144596\n",
      "9870266.0\n",
      "9870266.0\n"
     ]
    },
    {
     "name": "stderr",
     "output_type": "stream",
     "text": [
      "/home/erichschulman/anaconda3/lib/python3.9/site-packages/statsmodels/tsa/tsatools.py:142: FutureWarning: In a future version of pandas all arguments of concat except for the argument 'objs' will be keyword-only\n",
      "  x = pd.concat(x[::order], 1)\n"
     ]
    }
   ],
   "source": [
    "def create_logit_data(df):\n",
    "    df = df.copy()\n",
    "    \n",
    "    #create market data...\n",
    "    df['shares'] = df['Ever Enrolled Count']/df['DP03_0095E']\n",
    "    #add logit columns\n",
    "    df['product_ids'] = df['IssuerId'].astype(str) +  df['County'].astype(str) \n",
    "\n",
    "    #demand_instrument0\n",
    "    MktIds = np.array(pd.get_dummies(df['IssuerId']))\n",
    "    MktIds2 = (MktIds.T).dot(MktIds)\n",
    "    dummies_proj = MktIds.dot( np.linalg.inv( MktIds2 ) ).dot( MktIds.T )\n",
    "    df['demand_instruments0'] = dummies_proj.dot(df['PREMI27']) #average price across markets\n",
    "\n",
    "   \n",
    "    #fix problematic columns\n",
    "    df = df.rename(columns={'Average Monthly Advanced CSR Payment for Consumers with 94%':'csr_pay_94',\n",
    "                      'Average Monthly Advanced CSR Payment for Consumers with 87%':'csr_pay_87',\n",
    "                           'Total Number of Consumers':'csr_tot',\n",
    "                            'Number of Consumers with CSR AV of 94%':'csr_tot_94'\n",
    "                           ,'PREMI27':'prices', 'County':'market_ids', 'IssuerId':'firm_ids'})\n",
    "    \n",
    "    #standardize the cols\n",
    "    for col in firm_cols:\n",
    "        df[col] = df[col]/df[col].std()\n",
    "    df = df[df['shares']!=0]\n",
    "    \n",
    "    \n",
    "    ######### preprocess lasso data\n",
    "    lasso_x_cols = ['prices']\n",
    "\n",
    "    for col in df.columns:\n",
    "        if (col not in y_cols and col not in keys and col not in missing_cols \n",
    "            and not 'StateCode' in col and not 'IssuerId' in col and 'csr_' not in col\n",
    "            and col not in logit_keys and col not in logit_x_cols):\n",
    "                df[col] = df[col]/df[col].std()\n",
    "                lasso_x_cols.append(col) \n",
    "    \n",
    "    df = df.fillna(0)\n",
    "    \n",
    "    all_cols = list(set(logit_keys + logit_x_cols + y_cols+lasso_x_cols+logit_x_cols))\n",
    "    clean_df = df[all_cols]\n",
    "    return sm.add_constant(clean_df),lasso_x_cols\n",
    "\n",
    "\n",
    "clean_df,lasso_x_cols = create_logit_data(df)\n",
    "\n",
    "print(clean_df['prices'].mean()),#(1-clean_df['shares'].mean()))\n",
    "print(clean_df['Ever Enrolled Count'].sum())\n",
    "print( (clean_df['shares']*clean_df['DP03_0095E']).sum() )"
   ]
  },
  {
   "cell_type": "code",
   "execution_count": 4,
   "id": "851ac095",
   "metadata": {},
   "outputs": [],
   "source": [
    "num_trials = 5\n",
    "training_test = []\n",
    "\n",
    "#initilize folds\n",
    "np.random.seed()\n",
    "kf = KFold(n_splits=num_trials,shuffle=True)\n",
    "folds_indexes = kf.split(clean_df)\n",
    "\n",
    "for fold_index in folds_indexes:\n",
    "    np.random.seed()\n",
    "    X_train = clean_df.iloc[fold_index[0]]\n",
    "    X_test = clean_df.iloc[fold_index[1]]\n",
    "    training_test.append( (X_train, X_test) )"
   ]
  },
  {
   "cell_type": "code",
   "execution_count": 5,
   "id": "45b8bf4c",
   "metadata": {},
   "outputs": [],
   "source": [
    "def get_predictions(model,X_test):\n",
    "    y_pred = model.predict(X_test)\n",
    "    y_pred[y_pred < 0] = 0\n",
    "    return np.array(y_pred).reshape(X_test.shape[0],1)\n",
    "\n",
    "\n",
    "def plot_prediction(split,y_pred,y_test):\n",
    "    #setup the data\n",
    "    \n",
    "    plt.hist(y_pred[y_test < split],label='predictions',alpha=.5,density=True)\n",
    "    plt.hist(y_test[y_test < split],label='true',alpha=.5,density=True)\n",
    "    plt.legend()\n",
    "    plt.show()\n",
    "\n",
    "    plt.hist(y_pred[y_test > split],label='predictions',alpha=.5,density=True)\n",
    "    plt.hist(y_test[y_test > split],label='true',alpha=.5,density=True)\n",
    "    plt.legend()\n",
    "    plt.show()\n",
    "    \n",
    "    \n",
    "def plot_importance(X_test,model):\n",
    "    #use similar code for producing rankings of features according to LASSO\n",
    "    cols = np.array(X_test.columns)\n",
    "    importance_raw = model.get_booster().get_score(importance_type='weight')\n",
    "    importance = []\n",
    "\n",
    "    for key in importance_raw.keys():\n",
    "        importance.append([key,importance_raw[key]])\n",
    "\n",
    "    importance  = pd.DataFrame( importance, columns=['features','score'])\n",
    "    importance = importance.sort_values('score',ascending=False)\n",
    "\n",
    "    plt.barh(importance.head(20)['features'].iloc[::-1], importance.head(20)['score'].iloc[::-1])\n",
    "    plt.show()\n",
    "\n",
    "    \n",
    "def report_error(y_test,y_pred):\n",
    "    y_test = y_test.copy()\n",
    "    y_test['error'] = np.abs(y_test - y_pred)**2\n",
    "    y_test['pred'] = y_pred\n",
    "    result = y_test.merge(df, how='inner',left_index=True, right_index=True,suffixes=('','_x'))\n",
    "    result  =  result.rename(columns={'Total Number of Consumers':'csr_tot',\n",
    "                        'Number of Consumers with CSR AV of 94%':'csr_tot_94',\n",
    "                                     'EHBPercentTotalPremium':'prices'})\n",
    "    result['shares'] = result['Ever Enrolled Count']/result['DP03_0095E']\n",
    "    result = result.sort_values('error',ascending=False).head(50)\n",
    "    #plt.title('20 worst predictions')\n",
    "    #plt.hist(result['Ever Enrolled Count'],label='true',alpha=.5,density=True)\n",
    "    #plt.hist(result['pred'],label='pred',alpha=.5,density=True)\n",
    "    #plt.legend()\n",
    "    #plt.show()\n",
    "    \n",
    "    result_groupby = result.groupby('State')[['pred','Ever Enrolled Count','prices','csr_tot']].mean()\n",
    "    #MetalLevel_Silver\n",
    "    result_groupby = result.groupby('State')[['pred','Ever Enrolled Count']].mean()\n",
    "    result_groupby[['pred_var','enroll_var']] = result.groupby('State')[['pred','Ever Enrolled Count']].std()\n",
    "    result_groupby = result_groupby.sort_values('pred',ascending=False)\n",
    "    return result_groupby"
   ]
  },
  {
   "cell_type": "code",
   "execution_count": 6,
   "id": "ffcf9037",
   "metadata": {
    "scrolled": false
   },
   "outputs": [
    {
     "name": "stdout",
     "output_type": "stream",
     "text": [
      "------------------\n",
      "mse normalized trial  0 : r2 -1.2176665043018926\n",
      "training 1279.7480118509277 predicted share 1246.280029296875 actual 1036.93391521197\n",
      "------------------\n",
      "------------------\n",
      "mse normalized trial  1 : r2 0.09898836267918498\n",
      "training 1245.4866677062216 predicted share 1326.741943359375 actual 1173.9152119700748\n",
      "------------------\n",
      "------------------\n",
      "mse normalized trial  2 : r2 0.27245996960907437\n",
      "training 1251.1691612098534 predicted share 1105.70263671875 actual 1151.1334996880848\n",
      "------------------\n",
      "------------------\n",
      "mse normalized trial  3 : r2 0.17973948133015094\n",
      "training 1150.8766760212036 predicted share 1389.034912109375 actual 1552.4285714285713\n",
      "------------------\n",
      "------------------\n",
      "mse normalized trial  4 : r2 0.38292325060978305\n",
      "training 1228.5643903960088 predicted share 1059.44287109375 actual 1241.580786026201\n",
      "------------------\n"
     ]
    },
    {
     "data": {
      "image/png": "[encoded data removed]",
      "text/plain": [
       "<Figure size 432x288 with 1 Axes>"
      ]
     },
     "metadata": {
      "needs_background": "light"
     },
     "output_type": "display_data"
    },
    {
     "data": {
      "image/png": "[encoded data removed]",
      "text/plain": [
       "<Figure size 432x288 with 1 Axes>"
      ]
     },
     "metadata": {
      "needs_background": "light"
     },
     "output_type": "display_data"
    },
    {
     "data": {
      "image/png": "[encoded data removed]",
      "text/plain": [
       "<Figure size 432x288 with 1 Axes>"
      ]
     },
     "metadata": {
      "needs_background": "light"
     },
     "output_type": "display_data"
    },
    {
     "name": "stdout",
     "output_type": "stream",
     "text": [
      "mse 22159275.473123256 r2 0.1064556109348258\n",
      "mse med 18116851.286845684 r2 med -1.2176665043018926\n"
     ]
    }
   ],
   "source": [
    "params = [(5,.1,.5,.3)]\n",
    "#(2,.2,.5,.9)\n",
    "#(2,.5,.9,.9),(5,.5, 0.5, .9),\n",
    "\n",
    "for param in params:\n",
    "    mses = []\n",
    "    r2s = []\n",
    "    for i in range(num_trials):\n",
    "        X_train, X_test = training_test[i]\n",
    "        x_cols = lasso_x_cols+logit_x_cols \n",
    "        y_cols = ['Ever Enrolled Count']\n",
    "        \n",
    "        #reorg data for tree\n",
    "        y_train = X_train[y_cols]\n",
    "        y_test = X_test[y_cols]\n",
    "        X_train = X_train[x_cols]\n",
    "        X_test = X_test[x_cols]\n",
    "        \n",
    "        # not super deep, but uses most of the data at one\n",
    "        model = XGBRegressor(n_estimators=X_train.shape[1], max_depth=param[0],\n",
    "                             eta=param[1], subsample=param[2], colsample_bytree=param[3])\n",
    "        model.fit(X_train, y_train)\n",
    "\n",
    "        y_pred = get_predictions(model,X_test)\n",
    "        mse = float( ((y_test - y_pred)**2).mean() )\n",
    "        r2 = float(  1- mse/y_test.var() )\n",
    "        print('------------------')\n",
    "        print('mse normalized trial ', i,': r2', r2)#, mse, float(true_shares.var()) )\n",
    "        print('training', float(y_train.mean()) ,\n",
    "          'predicted share', float(y_pred.mean()) ,'actual', float(y_test.mean()))\n",
    "        print('------------------')\n",
    "            \n",
    "        mses.append(mse)\n",
    "        r2s.append(r2)\n",
    "\n",
    "        #plot the difference between true and predicted\n",
    "        if i == num_trials -1:\n",
    "            split = 5000\n",
    "            plot_prediction(split,y_pred,y_test)\n",
    "            plot_importance(X_test,model)\n",
    "            \n",
    "    #report fit statistics\n",
    "    mses,r2s = np.array(mses),np.array(r2s)\n",
    "    print( 'mse', np.array(mses).mean() ,'r2', 1 - float(np.array(mses).mean()/clean_df['Ever Enrolled Count'].var()) )\n",
    "    print( 'mse med', np.median(mses) ,'r2 med',r2s.reshape(num_trials,1)[mses == np.median(mses)][0,0] )"
   ]
  },
  {
   "cell_type": "code",
   "execution_count": 7,
   "id": "7fa98726",
   "metadata": {
    "scrolled": false
   },
   "outputs": [
    {
     "name": "stdout",
     "output_type": "stream",
     "text": [
      "------------------\n",
      "mse normalized trial  0 : r2 0.29588101382663035\n",
      "training 1279.7480118509277 predicted share 1178.918399124006 actual 1036.93391521197\n",
      "------------------\n",
      "------------------\n",
      "mse normalized trial  1 : r2 0.2341501000552706\n",
      "training 1245.4866677062216 predicted share 1198.4833823989077 actual 1173.9152119700748\n",
      "------------------\n",
      "------------------\n",
      "mse normalized trial  2 : r2 0.34837455182151145\n",
      "training 1251.1691612098534 predicted share 1116.391352334109 actual 1151.1334996880848\n",
      "------------------\n",
      "------------------\n",
      "mse normalized trial  3 : r2 0.18825344816687206\n",
      "training 1150.8766760212036 predicted share 1395.4908911957637 actual 1552.4285714285713\n",
      "------------------\n",
      "------------------\n",
      "mse normalized trial  4 : r2 0.36742450909386004\n",
      "training 1228.5643903960088 predicted share 1200.828785282549 actual 1241.580786026201\n",
      "------------------\n"
     ]
    },
    {
     "data": {
      "image/png": "[encoded data removed]",
      "text/plain": [
       "<Figure size 432x288 with 1 Axes>"
      ]
     },
     "metadata": {
      "needs_background": "light"
     },
     "output_type": "display_data"
    },
    {
     "data": {
      "image/png": "[encoded data removed]",
      "text/plain": [
       "<Figure size 432x288 with 1 Axes>"
      ]
     },
     "metadata": {
      "needs_background": "light"
     },
     "output_type": "display_data"
    },
    {
     "data": {
      "image/png": "[encoded data removed]",
      "text/plain": [
       "<Figure size 432x288 with 1 Axes>"
      ]
     },
     "metadata": {
      "needs_background": "light"
     },
     "output_type": "display_data"
    },
    {
     "name": "stdout",
     "output_type": "stream",
     "text": [
      "mse trial 4 :                pred  Ever Enrolled Count      pred_var    enroll_var\n",
      "State                                                               \n",
      "AZ     23967.978462         20137.333333     20.623107  17769.696743\n",
      "TX     15597.641520         21165.857143   7943.518483  28389.619168\n",
      "HI     13875.201188          6717.000000           NaN           NaN\n",
      "IL     12115.009902         38193.666667  15239.904709  43650.969478\n",
      "FL     12095.536716         16487.272727  15399.980520  15992.170354\n",
      "MI     10189.311587          1559.000000     95.578069   1087.530229\n",
      "UT      8170.321278          1213.000000           NaN           NaN\n",
      "OH      7316.655897           499.500000    125.692387    226.981277\n",
      "NJ      7250.960387          5044.333333   2536.597104   7269.574288\n",
      "GA      6604.693745         21113.000000           NaN           NaN\n",
      "TN      5849.267168         24894.000000           NaN           NaN\n",
      "WI      5785.108680         28963.000000           NaN           NaN\n",
      "VA      4923.517923         17739.666667   2728.285247   9001.325754\n",
      "LA      4365.303870         15019.000000           NaN           NaN\n",
      "NC      4200.025428         22037.750000   2923.006811  18420.092569\n",
      "PA      3902.287440         20785.000000    140.404102   5164.707930\n",
      "NE      3578.204546         13061.000000           NaN           NaN\n",
      "OR      2868.693883         10393.000000           NaN           NaN\n",
      "ME      2043.008184          9869.000000           NaN           NaN\n",
      "SC      2013.299311         11999.000000           NaN           NaN\n",
      "alpha_value: 250\n",
      "mse 18326109.72007386 r2 0.2610231081956609\n",
      "mse med 13047705.989925584 r2 med 0.36742450909386004\n",
      "==========================================\n",
      "==========================================\n"
     ]
    }
   ],
   "source": [
    "# Vary alpha values\n",
    "a = [250]\n",
    "\n",
    "for i in a: \n",
    "    mses = []\n",
    "    r2s = []\n",
    "    for j in range(num_trials):\n",
    "        X_train, X_test = training_test[j]\n",
    "        x_cols = lasso_x_cols+logit_x_cols \n",
    "        y_cols = ['Ever Enrolled Count']\n",
    "        \n",
    "        #reorg data for tree\n",
    "        y_train = X_train[y_cols]\n",
    "        y_test = X_test[y_cols]\n",
    "        X_train = X_train[x_cols]\n",
    "        X_test = X_test[x_cols]\n",
    "        \n",
    "        #fit the model\n",
    "        lasso = sm.OLS(y_train, X_train).fit_regularized(method='elastic_net', alpha=i, L1_wt=1.0)\n",
    "        y_pred = get_predictions(lasso,X_test)\n",
    "\n",
    "        mse = float(((y_test - y_pred)**2).mean())\n",
    "        r2 = float( 1 - mse/y_test.var() )\n",
    "        print('------------------')\n",
    "        print('mse normalized trial ', j,': r2', r2)#, mse, float(true_shares.var()) )\n",
    "        print('training', float(y_train.mean()) ,\n",
    "          'predicted share', float(y_pred.mean()) ,'actual', float(y_test.mean()))\n",
    "        print('------------------')\n",
    "        mses.append(mse)\n",
    "        r2s.append(r2)\n",
    "        \n",
    "\n",
    "        if j == num_trials -1:\n",
    "            #plot the difference between true and predicted\n",
    "            split = 5000\n",
    "            plot_prediction(split,y_pred,y_test)\n",
    "\n",
    "            #also plot important feature\n",
    "            param_df = pd.DataFrame(np.abs(lasso.params),columns=['score']).sort_values(by=['score'], ascending=False).head(20)\n",
    "            param_df['features'] = param_df.index\n",
    "            plt.barh(param_df['features'].iloc[::-1], param_df['score'].iloc[::-1])\n",
    "            plt.show()\n",
    "            print('mse trial', j, ':',report_error(y_test,y_pred))\n",
    "\n",
    "    print('alpha_value:', i)\n",
    "    mses,r2s = np.array(mses),np.array(r2s)\n",
    "    print( 'mse', np.array(mses).mean() ,'r2', 1 - float(np.array(mses).mean()/clean_df['Ever Enrolled Count'].var()) )\n",
    "    print( 'mse med', np.median(mses) ,'r2 med',r2s.reshape(num_trials,1)[mses == np.median(mses)][0,0] )\n",
    "    print('==========================================')\n",
    "    print('==========================================')"
   ]
  },
  {
   "cell_type": "code",
   "execution_count": 8,
   "id": "38e72e18",
   "metadata": {},
   "outputs": [],
   "source": [
    "#some training sets total number of consumers?\n",
    "#some times DP03_CSR?"
   ]
  },
  {
   "cell_type": "code",
   "execution_count": null,
   "id": "ab87d4c5",
   "metadata": {},
   "outputs": [],
   "source": []
  },
  {
   "cell_type": "code",
   "execution_count": null,
   "id": "1ccf3a50",
   "metadata": {},
   "outputs": [],
   "source": []
  },
  {
   "cell_type": "code",
   "execution_count": null,
   "id": "a7175917",
   "metadata": {},
   "outputs": [],
   "source": []
  }
 ],
 "metadata": {
  "kernelspec": {
   "display_name": "Python 3 (ipykernel)",
   "language": "python",
   "name": "python3"
  },
  "language_info": {
   "codemirror_mode": {
    "name": "ipython",
    "version": 3
   },
   "file_extension": ".py",
   "mimetype": "text/x-python",
   "name": "python",
   "nbconvert_exporter": "python",
   "pygments_lexer": "ipython3",
   "version": "3.9.7"
  }
 },
 "nbformat": 4,
 "nbformat_minor": 5
}
