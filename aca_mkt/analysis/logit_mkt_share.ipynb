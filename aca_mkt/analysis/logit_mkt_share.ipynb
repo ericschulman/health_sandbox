{
 "cells": [
  {
   "cell_type": "code",
   "execution_count": 1,
   "id": "8bed8808",
   "metadata": {},
   "outputs": [],
   "source": [
    "import pandas as pd\n",
    "import numpy as np\n",
    "import matplotlib.pylab as plt\n",
    "import random\n",
    "\n",
    "import statsmodels.api as sm\n",
    "from sklearn.model_selection import train_test_split\n",
    "from sklearn.model_selection import KFold"
   ]
  },
  {
   "cell_type": "code",
   "execution_count": 2,
   "id": "0230e887",
   "metadata": {},
   "outputs": [],
   "source": [
    "df = pd.read_csv('../data/processed_data/merged_characteristics.csv')\n",
    "\n",
    "########create mkt share data for logit\n",
    "logit_keys = ['market_ids', 'product_ids', 'firm_ids', 'shares', 'prices', 'demand_instruments0']\n",
    "nonlinear_cols = ['EHBPercentTotalPremium']\n",
    "linear_cols = [ 'act_value','MetalLevel_Platinum', 'MetalLevel_Silver','Plan Counts']\n",
    "mkt_cols = [ 'DP05_0015PE' ,'DP05_0069PE','S1701_C01_017E','StateCodeFL'] \n",
    "firm_cols =  linear_cols+ nonlinear_cols   \n",
    "logit_x_cols = firm_cols + mkt_cols + ['DP03_0095E']\n",
    "\n",
    "\n",
    "############keys for boosted trees...\n",
    "keys = ['HIOS ID', 'IssuerId', 'County', 'State', 'FIPS County Code', 'Policy County FIPS Code','County Name']\n",
    "missing_cols = ['DP05_0028PE', 'Number of Consumers with CSR AV of 87%', \n",
    "                'Average Monthly Advanced CSR Payment for Consumers with 87%', \n",
    "                'DP05_0018PE', 'Number of Consumers with CSR (AV of 73%/87%/94%)', 'Total Number of Consumers',\n",
    "                'Number of Consumers with CSR AV of 73%', 'Number of Consumers with CSR AV of 94%','FIPS County Code',\n",
    "                'Average Monthly Advanced CSR Payment for Consumers with 73%', \n",
    "                'Average Monthly Advanced CSR Payment for Consumers with 94%', \n",
    "                'DP05_0032PE', 'DP05_0004PE', 'County Name']\n",
    "\n",
    "#setup y\n",
    "y_cols = ['Ever Enrolled Count']\n",
    "keys = ['HIOS ID', 'IssuerId', 'County', 'State', 'FIPS County Code', 'Policy County FIPS Code','County Name']"
   ]
  },
  {
   "cell_type": "code",
   "execution_count": 3,
   "id": "e38041e4",
   "metadata": {},
   "outputs": [
    {
     "name": "stdout",
     "output_type": "stream",
     "text": [
      "142.14997349144596\n",
      "9870266.0\n",
      "9870266.0\n"
     ]
    },
    {
     "name": "stderr",
     "output_type": "stream",
     "text": [
      "/home/erichschulman/anaconda3/lib/python3.9/site-packages/statsmodels/tsa/tsatools.py:142: FutureWarning: In a future version of pandas all arguments of concat except for the argument 'objs' will be keyword-only\n",
      "  x = pd.concat(x[::order], 1)\n"
     ]
    }
   ],
   "source": [
    "def create_logit_data(df):\n",
    "    df = df.copy()\n",
    "    \n",
    "    #create market data...\n",
    "    df['shares'] = df['Ever Enrolled Count']/df['DP03_0095E']\n",
    "    #add logit columns\n",
    "    df['product_ids'] = df['IssuerId'].astype(str) +  df['County'].astype(str) \n",
    "\n",
    "    #demand_instrument0\n",
    "    MktIds = np.array(pd.get_dummies(df['IssuerId']))\n",
    "    MktIds2 = (MktIds.T).dot(MktIds)\n",
    "    dummies_proj = MktIds.dot( np.linalg.inv( MktIds2 ) ).dot( MktIds.T )\n",
    "    df['demand_instruments0'] = dummies_proj.dot(df['PREMI27']) #average price across markets\n",
    "\n",
    "   \n",
    "    #fix problematic columns\n",
    "    df = df.rename(columns={'Average Monthly Advanced CSR Payment for Consumers with 94%':'csr_pay_94',\n",
    "                      'Average Monthly Advanced CSR Payment for Consumers with 87%':'csr_pay_87',\n",
    "                           'Total Number of Consumers':'csr_tot',\n",
    "                            'Number of Consumers with CSR AV of 94%':'csr_tot_94'\n",
    "                           ,'PREMI27':'prices', 'County':'market_ids', 'IssuerId':'firm_ids'})\n",
    "    \n",
    "    #standardize the cols\n",
    "    for col in firm_cols:\n",
    "        df[col] = df[col]/df[col].std()\n",
    "    df = df[df['shares']!=0]\n",
    "    \n",
    "    \n",
    "    ######### preprocess lasso data\n",
    "    lasso_x_cols = ['prices']\n",
    "\n",
    "    for col in df.columns:\n",
    "        if (col not in y_cols and col not in keys and col not in missing_cols \n",
    "            and not 'StateCode' in col and not 'IssuerId' in col and 'csr_' not in col\n",
    "            and col not in logit_keys and col not in logit_x_cols):\n",
    "                df[col] = df[col]/df[col].std()\n",
    "                lasso_x_cols.append(col) \n",
    "    \n",
    "    df = df.fillna(0)\n",
    "    \n",
    "    all_cols = list(set(logit_keys + logit_x_cols + y_cols+lasso_x_cols+logit_x_cols))\n",
    "    clean_df = df[all_cols]\n",
    "    return sm.add_constant(clean_df),lasso_x_cols\n",
    "\n",
    "\n",
    "clean_df,lasso_x_cols = create_logit_data(df)\n",
    "\n",
    "print(clean_df['prices'].mean()),#(1-clean_df['shares'].mean()))\n",
    "print(clean_df['Ever Enrolled Count'].sum())\n",
    "print( (clean_df['shares']*clean_df['DP03_0095E']).sum() )"
   ]
  },
  {
   "cell_type": "code",
   "execution_count": 4,
   "id": "3d483b32",
   "metadata": {},
   "outputs": [],
   "source": [
    "num_trials = 5\n",
    "training_test = []\n",
    "\n",
    "#initilize folds\n",
    "np.random.seed()\n",
    "kf = KFold(n_splits=num_trials,shuffle=True)\n",
    "folds_indexes = kf.split(clean_df)\n",
    "\n",
    "for fold_index in folds_indexes:\n",
    "    np.random.seed()\n",
    "    X_train = clean_df.iloc[fold_index[0]]\n",
    "    X_test = clean_df.iloc[fold_index[1]]\n",
    "    training_test.append( (X_train, X_test) )"
   ]
  },
  {
   "cell_type": "code",
   "execution_count": 5,
   "id": "8ee38370",
   "metadata": {},
   "outputs": [
    {
     "name": "stdout",
     "output_type": "stream",
     "text": [
      "------------------\n",
      "mse normalized trial  0 : r2 0.0577769050472291\n",
      "training 1234.398877280524 predicted share 1187.0001810890872 actual 1218.2456359102243\n",
      "------------------\n",
      "------------------\n",
      "mse normalized trial  1 : r2 0.18681456728120893\n",
      "training 1234.3531888351786 predicted share 1170.4488285070727 actual 1218.4283042394015\n",
      "------------------\n",
      "------------------\n",
      "mse normalized trial  2 : r2 0.25931086630161704\n",
      "training 1213.6390707826629 predicted share 1197.7420941172018 actual 1301.30068621335\n",
      "------------------\n",
      "------------------\n",
      "mse normalized trial  3 : r2 -0.09850686252636542\n",
      "training 1196.7634861241036 predicted share 1426.3907905380977 actual 1368.8240798502807\n",
      "------------------\n",
      "------------------\n",
      "mse normalized trial  4 : r2 0.08350442126323121\n",
      "training 1276.6814780168381 predicted share 1250.5047716033391 actual 1049.0524017467249\n",
      "------------------\n",
      "mse 21469904.286188044 r2 0.1342536207035241\n",
      "mse med 22652077.832286343 r2 med 0.18681456728120893\n"
     ]
    }
   ],
   "source": [
    "mses = []\n",
    "r2s = []\n",
    "model_fit = None\n",
    "pred_shares = None\n",
    "true_shares = None\n",
    "blp_pred = None\n",
    "\n",
    "for i in range(num_trials):\n",
    "    X_train, X_test = training_test[i]\n",
    "    x_cols = logit_x_cols+['const','demand_instruments0']\n",
    "    y_cols = ['shares']\n",
    "    model_fit = sm.Logit(X_train[y_cols], X_train[x_cols]).fit(disp=0)\n",
    "    pred_shares = model_fit.predict(X_test[x_cols])\n",
    "    \n",
    "    #make predictions/figure out error\n",
    "    blp_pred = pred_shares*X_test['DP03_0095E']\n",
    "    true_shares = X_test['shares']*X_test['DP03_0095E']\n",
    "    error = blp_pred - true_shares\n",
    "    \n",
    "    mse = float( (error**2).mean() )\n",
    "    r2 = float( 1 - mse/true_shares.var() ) \n",
    "    mses.append(mse)\n",
    "    r2s.append(r2)\n",
    "    print('------------------')\n",
    "    print('mse normalized trial ', i,': r2', r2)\n",
    "    print('training', (X_train['shares']*X_train['DP03_0095E']).mean() ,\n",
    "          'predicted share', blp_pred.mean() ,'actual', true_shares.mean())\n",
    "    print('------------------')\n",
    "    \n",
    "mses,r2s = np.array(mses),np.array(r2s)\n",
    "enrollments = clean_df['shares']*clean_df['DP03_0095E']\n",
    "print( 'mse', np.array(mses).mean() ,'r2', 1 - float( mses.mean()/enrollments.var()) )\n",
    "print( 'mse med', np.median(mses) ,'r2 med',r2s.reshape(num_trials,1)[mses == np.median(mses)][0,0] )"
   ]
  },
  {
   "cell_type": "code",
   "execution_count": 6,
   "id": "011b19f8",
   "metadata": {},
   "outputs": [
    {
     "name": "stderr",
     "output_type": "stream",
     "text": [
      "/home/erichschulman/anaconda3/lib/python3.9/site-packages/statsmodels/discrete/discrete_model.py:3500: RuntimeWarning: divide by zero encountered in double_scalars\n",
      "  return 1 - self.llf/self.llnull\n"
     ]
    },
    {
     "name": "stdout",
     "output_type": "stream",
     "text": [
      "                           Logit Regression Results                           \n",
      "==============================================================================\n",
      "Dep. Variable:                 shares   No. Observations:                 6414\n",
      "Model:                          Logit   Df Residuals:                     6402\n",
      "Method:                           MLE   Df Model:                           11\n",
      "Date:                Tue, 17 May 2022   Pseudo R-squ.:                     inf\n",
      "Time:                        10:38:10   Log-Likelihood:                -99.811\n",
      "converged:                       True   LL-Null:                        0.0000\n",
      "Covariance Type:            nonrobust   LLR p-value:                     1.000\n",
      "==========================================================================================\n",
      "                             coef    std err          z      P>|z|      [0.025      0.975]\n",
      "------------------------------------------------------------------------------------------\n",
      "act_value                  0.1247      0.384      0.324      0.746      -0.629       0.878\n",
      "MetalLevel_Platinum        0.0302      0.113      0.266      0.790      -0.192       0.253\n",
      "MetalLevel_Silver         -0.0259      0.279     -0.093      0.926      -0.573       0.521\n",
      "Plan Counts                0.1388      0.110      1.258      0.208      -0.077       0.355\n",
      "EHBPercentTotalPremium    -0.1042      0.355     -0.294      0.769      -0.799       0.591\n",
      "DP05_0015PE                0.1049      0.066      1.600      0.110      -0.024       0.233\n",
      "DP05_0069PE                0.0563      0.081      0.694      0.487      -0.103       0.215\n",
      "S1701_C01_017E          6.885e-06   6.24e-05      0.110      0.912      -0.000       0.000\n",
      "StateCodeFL                0.0650      0.748      0.087      0.931      -1.400       1.530\n",
      "DP03_0095E             -5.044e-07   6.11e-07     -0.826      0.409    -1.7e-06    6.92e-07\n",
      "const                     -4.9098      0.428    -11.463      0.000      -5.749      -4.070\n",
      "demand_instruments0       -0.0003      0.002     -0.187      0.851      -0.004       0.003\n",
      "==========================================================================================\n"
     ]
    },
    {
     "data": {
      "image/png": "[encoded data removed]",
      "text/plain": [
       "<Figure size 432x288 with 1 Axes>"
      ]
     },
     "metadata": {
      "needs_background": "light"
     },
     "output_type": "display_data"
    },
    {
     "data": {
      "image/png": "[encoded data removed]",
      "text/plain": [
       "<Figure size 432x288 with 1 Axes>"
      ]
     },
     "metadata": {
      "needs_background": "light"
     },
     "output_type": "display_data"
    }
   ],
   "source": [
    "#print fit\n",
    "print(model_fit.summary())\n",
    "\n",
    "#evaluating model fit...\n",
    "blp_pred = pred_shares*X_test['DP03_0095E']\n",
    "true_shares = X_test['shares']*X_test['DP03_0095E']\n",
    "\n",
    "split = 5000\n",
    "plt.title('>'+str(split))\n",
    "plt.hist(blp_pred[true_shares >=split],label='True',alpha=.5,density=True)\n",
    "plt.hist(true_shares[true_shares >=split],label='logit',alpha = .5,density=True)\n",
    "plt.legend()\n",
    "plt.show()\n",
    "\n",
    "\n",
    "plt.title('<'+str(split))\n",
    "plt.hist(blp_pred[true_shares <=split],label='True',alpha=.5,density=True)\n",
    "plt.hist(true_shares[true_shares <=split],label='logit',alpha = .5,density=True)\n",
    "plt.legend()\n",
    "plt.show()"
   ]
  },
  {
   "cell_type": "code",
   "execution_count": 7,
   "id": "38e72e18",
   "metadata": {
    "scrolled": false
   },
   "outputs": [
    {
     "name": "stdout",
     "output_type": "stream",
     "text": [
      "               pred  Ever Enrolled Count      pred_var    enroll_var  count\n",
      "State                                                                      \n",
      "FL     17229.410707          6153.800000  17814.577844   6159.850409     10\n",
      "PA      8661.697011         20785.000000    606.505250   5164.707930      2\n",
      "MI      8369.403341          3909.200000   1395.077660   6928.198518      5\n",
      "AZ      7493.958893           164.000000           NaN           NaN      1\n",
      "UT      7434.153261          1213.000000           NaN           NaN      1\n",
      "TX      7120.426648          9694.800000   1407.675576  13814.990018      5\n",
      "OH      6999.886711           167.600000   1474.788592    113.379010      5\n",
      "NJ      6918.300752          7339.400000   1207.616990   8355.891502      5\n",
      "VA      6839.495274         32449.000000           NaN           NaN      1\n",
      "IL      6263.000077         22455.000000   3919.478435  19128.652645      2\n",
      "WI      5971.954632           702.000000           NaN           NaN      1\n",
      "GA      5951.003324         19581.666667    815.775293   1384.896145      3\n",
      "NC      5047.941172         23543.666667   1945.375249  21361.244588      3\n",
      "DE      4729.287416         16165.000000           NaN           NaN      1\n",
      "OR      4115.314313         11596.000000    663.811794   3379.970414      2\n",
      "LA      3993.057460         14817.000000           NaN           NaN      1\n",
      "SC      3361.714204         10775.000000           NaN           NaN      1\n",
      "ME      2996.403151          9869.000000           NaN           NaN      1\n"
     ]
    }
   ],
   "source": [
    "def report_error(X_test,pred_shares):\n",
    "    pred_shares = np.array(pred_shares.copy())\n",
    "    X_test = X_test.copy()\n",
    "    X_test['error'] =  ((X_test['shares']- pred_shares)*X_test['DP03_0095E'])**2\n",
    "    X_test['pred'] = pred_shares*X_test['DP03_0095E']\n",
    "    result = X_test.merge(df, how='inner',left_index=True, right_index=True,suffixes=('_x',''))    \n",
    "    result = result.sort_values('error',ascending=False).head(50) \n",
    "\n",
    "    result_groupby = result.groupby('State')[['pred','Ever Enrolled Count','prices']].mean()\n",
    "    result_groupby = result.groupby('State')[['pred','Ever Enrolled Count']].mean()\n",
    "    result_groupby[['pred_var','enroll_var']] = result.groupby('State')[['pred','Ever Enrolled Count']].std()\n",
    "    result_groupby['count'] =result.groupby('State')['shares'].count()\n",
    "    result_groupby = result_groupby.sort_values('pred',ascending=False)\n",
    "    return result_groupby\n",
    "\n",
    "print(report_error(X_test,pred_shares))"
   ]
  },
  {
   "cell_type": "code",
   "execution_count": null,
   "id": "ab87d4c5",
   "metadata": {},
   "outputs": [],
   "source": []
  },
  {
   "cell_type": "code",
   "execution_count": null,
   "id": "1ccf3a50",
   "metadata": {},
   "outputs": [],
   "source": []
  },
  {
   "cell_type": "code",
   "execution_count": null,
   "id": "c3e9f254",
   "metadata": {},
   "outputs": [],
   "source": []
  },
  {
   "cell_type": "code",
   "execution_count": null,
   "id": "a7175917",
   "metadata": {},
   "outputs": [],
   "source": []
  }
 ],
 "metadata": {
  "kernelspec": {
   "display_name": "Python 3 (ipykernel)",
   "language": "python",
   "name": "python3"
  },
  "language_info": {
   "codemirror_mode": {
    "name": "ipython",
    "version": 3
   },
   "file_extension": ".py",
   "mimetype": "text/x-python",
   "name": "python",
   "nbconvert_exporter": "python",
   "pygments_lexer": "ipython3",
   "version": "3.9.7"
  }
 },
 "nbformat": 4,
 "nbformat_minor": 5
}
