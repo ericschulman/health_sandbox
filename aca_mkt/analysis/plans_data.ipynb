{
 "cells": [
  {
   "cell_type": "code",
   "execution_count": 1,
   "id": "d100a770",
   "metadata": {},
   "outputs": [],
   "source": [
    "import pandas as pd\n",
    "import numpy as np"
   ]
  },
  {
   "cell_type": "code",
   "execution_count": 2,
   "id": "835201f9",
   "metadata": {},
   "outputs": [],
   "source": [
    "data_path1 =  \"../data/plans_data/\"\n",
    "def create_plan_summary(file):\n",
    "    df = pd.read_csv(data_path1 + file) # , encoding='cp1252'\n",
    "    summary = pd.DataFrame()\n",
    "    summary['Column_Name'] = pd.Series(list(df.columns))\n",
    "    DEHB_list = list(df.filter(like='TEHB').columns)\n",
    "    MEHB_list = list(df.filter(like='MEHB').columns)\n",
    "    TEHB_list = list(df.filter(like='DEHB').columns)\n",
    "    summary['Column_2'] = np.where(summary['Column_Name'].isin(TEHB_list), 1, 0 )\n",
    "    summary['Column_3'] = np.where(summary['Column_Name'].isin(MEHB_list), 2, 0 )\n",
    "    summary['Column_4'] = np.where(summary['Column_Name'].isin(DEHB_list), 3, 0 )\n",
    "    summary['Categories'] = summary['Column_2'] + summary['Column_3'] + summary['Column_4']\n",
    "    summary = summary[['Column_Name', 'Categories']]\n",
    "    lst1 = []\n",
    "    for i in list(df.columns):\n",
    "        lst1.append(df[i].isna().sum())\n",
    "    summary['Missing_Values'] = pd.Series(lst1)\n",
    "    lst2 = []\n",
    "    for i in list(df.columns):\n",
    "        lst2.append(df[i].nunique())\n",
    "    summary['Unique_Values'] = pd.Series(lst2)\n",
    "    return summary"
   ]
  },
  {
   "cell_type": "code",
   "execution_count": 3,
   "id": "8fe81e69",
   "metadata": {},
   "outputs": [],
   "source": [
    "df1 = create_plan_summary('plans_2016.csv')\n",
    "df2 = create_plan_summary('plans_2017.csv')\n",
    "data_path2 =  \"../data/processed_data/\"\n",
    "df1.to_csv(data_path2 + 'plans_2016_summary.csv')\n",
    "df2.to_csv(data_path2 + 'plans_2017_summary.csv')"
   ]
  },
  {
   "cell_type": "code",
   "execution_count": null,
   "id": "e7cf119e",
   "metadata": {},
   "outputs": [],
   "source": []
  }
 ],
 "metadata": {
  "kernelspec": {
   "display_name": "Python 3 (ipykernel)",
   "language": "python",
   "name": "python3"
  },
  "language_info": {
   "codemirror_mode": {
    "name": "ipython",
    "version": 3
   },
   "file_extension": ".py",
   "mimetype": "text/x-python",
   "name": "python",
   "nbconvert_exporter": "python",
   "pygments_lexer": "ipython3",
   "version": "3.9.12"
  }
 },
 "nbformat": 4,
 "nbformat_minor": 5
}
