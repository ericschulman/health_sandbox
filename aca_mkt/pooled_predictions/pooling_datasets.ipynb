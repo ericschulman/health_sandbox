{
 "cells": [
  {
   "cell_type": "code",
   "execution_count": 1,
   "id": "9c157595",
   "metadata": {},
   "outputs": [],
   "source": [
    "import pandas as pd\n",
    "import numpy as np\n",
    "import warnings\n",
    "warnings.filterwarnings(\"ignore\")"
   ]
  },
  {
   "cell_type": "code",
   "execution_count": 2,
   "id": "ba048a42",
   "metadata": {},
   "outputs": [],
   "source": [
    "data_path = \"../data/processed_data/\"\n",
    "data_16 = pd.read_csv(data_path + \"merged_characteristics.csv\")\n",
    "data_17 = pd.read_csv(data_path + \"merged_characteristics_2017.csv\")\n",
    "data_16['Year'] = 2016\n",
    "data_17['Year'] = 2017"
   ]
  },
  {
   "cell_type": "code",
   "execution_count": 3,
   "id": "e961c9d7",
   "metadata": {},
   "outputs": [],
   "source": [
    "pooled_data = pd.concat([data_16, data_17])\n",
    "pooled_data.to_csv(data_path + \"panel.csv\", index=False)"
   ]
  },
  {
   "cell_type": "code",
   "execution_count": 4,
   "id": "b10d357a",
   "metadata": {},
   "outputs": [
    {
     "data": {
      "text/plain": [
       "702465.0"
      ]
     },
     "execution_count": 4,
     "metadata": {},
     "output_type": "execute_result"
    }
   ],
   "source": [
    "data_16['Ever Enrolled Count'].sum() - data_17['Ever Enrolled Count'].sum()"
   ]
  },
  {
   "cell_type": "code",
   "execution_count": null,
   "id": "d3259419",
   "metadata": {},
   "outputs": [],
   "source": []
  }
 ],
 "metadata": {
  "kernelspec": {
   "display_name": "Python 3 (ipykernel)",
   "language": "python",
   "name": "python3"
  },
  "language_info": {
   "codemirror_mode": {
    "name": "ipython",
    "version": 3
   },
   "file_extension": ".py",
   "mimetype": "text/x-python",
   "name": "python",
   "nbconvert_exporter": "python",
   "pygments_lexer": "ipython3",
   "version": "3.9.12"
  }
 },
 "nbformat": 4,
 "nbformat_minor": 5
}
