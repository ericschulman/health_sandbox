{
 "cells": [
  {
   "cell_type": "code",
   "execution_count": 1,
   "id": "ceab89ba",
   "metadata": {},
   "outputs": [],
   "source": [
    "import numpy as np\n",
    "import pandas as pd\n",
    "import requests\n",
    "import json "
   ]
  },
  {
   "cell_type": "code",
   "execution_count": 2,
   "id": "6ed85496",
   "metadata": {
    "scrolled": false
   },
   "outputs": [],
   "source": [
    "columns = ['state_code','prov_nbr','name','address','city','state','zip']\n",
    "result = pd.DataFrame(columns=columns)\n",
    "\n",
    "with open('data/ESRD Provider PUF as of 01FEB2020.txt', 'rb') as f:\n",
    "    contents = f.readlines()\n",
    "    for row in contents[2:-20]:\n",
    "        raw_data = row[0:2],row[2:6],row[6:66],row[66:186],row[186:206],row[206:208],row[208:213]#,row[259:262]\n",
    "        raw_data = [str(i)[2:-1].replace('  ','') for i in raw_data]\n",
    "        new_row = pd.DataFrame(data=[raw_data],columns=columns)\n",
    "        result = result.append(new_row)\n",
    "\n",
    "result = result.reset_index()[columns]\n",
    "\n",
    "result.to_csv('data/ESRD_Provider_PUF.csv')\n",
    "result[['address','city','state','zip']].to_csv('data/for_census.csv',header=False)"
   ]
  },
  {
   "cell_type": "code",
   "execution_count": 3,
   "id": "6f54a94c",
   "metadata": {},
   "outputs": [
    {
     "name": "stdout",
     "output_type": "stream",
     "text": [
      "36061\n"
     ]
    }
   ],
   "source": [
    "addresses = ['50 w 96th street, new york, new york, 10025',\"61 Deal St, Harrington Park, NJ 07640\" ]\n",
    "\n",
    "base_url = \"https://geocoding.geo.census.gov/geocoder/geographies/onelineaddress?address=%s&\\\n",
    "benchmark=Public_AR_Census2020&vintage=Census2010_Census2020&format=json\"%(addresses[0])\n",
    "response=requests.get(base_url)\n",
    "print(json.loads(response.text)['result']['addressMatches'][0]['geographies']['Counties'][0]['GEOID'])"
   ]
  },
  {
   "cell_type": "code",
   "execution_count": null,
   "id": "f83f38e3",
   "metadata": {},
   "outputs": [],
   "source": []
  }
 ],
 "metadata": {
  "kernelspec": {
   "display_name": "Python 3 (ipykernel)",
   "language": "python",
   "name": "python3"
  },
  "language_info": {
   "codemirror_mode": {
    "name": "ipython",
    "version": 3
   },
   "file_extension": ".py",
   "mimetype": "text/x-python",
   "name": "python",
   "nbconvert_exporter": "python",
   "pygments_lexer": "ipython3",
   "version": "3.9.7"
  }
 },
 "nbformat": 4,
 "nbformat_minor": 5
}
