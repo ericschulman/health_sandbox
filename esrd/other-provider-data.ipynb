{
 "cells": [
  {
   "cell_type": "code",
   "execution_count": 5,
   "id": "8041115d",
   "metadata": {},
   "outputs": [],
   "source": [
    "import numpy as np\n",
    "import pandas as pd\n",
    "import requests\n",
    "import json"
   ]
  },
  {
   "cell_type": "code",
   "execution_count": 21,
   "id": "6897a382",
   "metadata": {},
   "outputs": [
    {
     "name": "stdout",
     "output_type": "stream",
     "text": [
      "Index(['provfs', 'dfr_provname', 'provcity', 'state', 'network', 'chainnam',\n",
      "       'cw_owner_f', 'allmcpatq1_f', 'allmcFcovpatq1_f', 'allmcFcovpatPq1_f',\n",
      "       ...\n",
      "       'p_mefavfmy1_f', 'p_mefgraftmy1_f', 'p_mefcathmy1_f',\n",
      "       'p_mefoumaccessmy1_f', 'p_avfpresentmy1_f', 'p_hemomy1_f', 'p_nmy1_f',\n",
      "       'p_allmdcrmy2_f', 'p_insmdcdmy2_f', 'p_insempmy2_f'],\n",
      "      dtype='object', length=1024)\n"
     ]
    },
    {
     "name": "stderr",
     "output_type": "stream",
     "text": [
      "/home/erichschulman/anaconda3/lib/python3.9/site-packages/IPython/core/interactiveshell.py:3444: DtypeWarning: Columns (95,96,97,98,99,100,101,102,243,244,245,246,247,248,249,250,251,252,253,254,255,256,257,258,259,260,261,262,263,264,265,266,267,268,269,270,271,272,273,412,413,414,415,416,417,418,419,420,421,422,423,424,425,426,427,428,429,430,553,554,555,556,558,559,560,561,562,563,564,565,566,567,568,569,707,708,709,710,711,712,713,714,715,716,717,718,719,720,721,722,723,724,725,726,727,728,729,730,731) have mixed types.Specify dtype option on import or set low_memory=False.\n",
      "  exec(code_obj, self.user_global_ns, self.user_ns)\n"
     ]
    }
   ],
   "source": [
    "data = pd.read_csv('data/DFR_Data_FY2022.csv')\n",
    "print(data.columns)\n",
    "data = data[['provfs','dfr_provname','provcity','state','chainnam']]\n",
    "data.to_csv('data/DFR_Data_FY2022_short.csv')\n"
   ]
  },
  {
   "cell_type": "code",
   "execution_count": 20,
   "id": "4cfadb87",
   "metadata": {},
   "outputs": [
    {
     "name": "stdout",
     "output_type": "stream",
     "text": [
      "Index(['Unnamed: 0', 'state_code', 'prov_nbr', 'name', 'address', 'city',\n",
      "       'state', 'zip'],\n",
      "      dtype='object')\n"
     ]
    }
   ],
   "source": [
    "data2 = pd.read_csv('data/ESRD_Provider_PUF.csv')\n",
    "print(data2.columns)\n",
    "data2['provfs'] = data2['state_code'].astype('str') + data2['prov_nbr'].astype('str')\n",
    "data2['provfs'] = data2['provfs'].astype('int')\n",
    "merge_data = pd.merge(data2,data[['provfs','chainnam']],how='left',left_on='provfs',right_on='provfs')"
   ]
  },
  {
   "cell_type": "code",
   "execution_count": 30,
   "id": "f93e06f5",
   "metadata": {},
   "outputs": [
    {
     "name": "stdout",
     "output_type": "stream",
     "text": [
      "       provfs  davita  fresenius\n",
      "state                           \n",
      "AK          9       0          7\n",
      "AL        187      61         93\n",
      "AR         73      36         12\n",
      "AS          1       0          0\n",
      "AZ        133      48         55\n",
      "CA        721     337        136\n",
      "CO         85      39         19\n",
      "CT         53      29         13\n",
      "DC         23      12          7\n",
      "DE         35       0         23\n",
      "FL        510     215        151\n",
      "GA        380     151        109\n",
      "GU          5       0          0\n",
      "HI         33       2         14\n",
      "IA         71      30         15\n",
      "ID         27       9         12\n",
      "IL        353     133        145\n",
      "IN        181      69         82\n",
      "KS         67      38         23\n",
      "KY        128      41         65\n",
      "LA        193      38        121\n",
      "MA         92      13         37\n",
      "MD        173      85         50\n",
      "ME         20       4         11\n",
      "MI        229      94         82\n",
      "MN        124      50         37\n",
      "MO        173      62         54\n",
      "MP          2       0          0\n",
      "MS         92      10         60\n",
      "MT         17       1          5\n",
      "NC        243      95        116\n",
      "ND         17       1          0\n",
      "NE         41      17          7\n",
      "NH         21       5         14\n",
      "NJ        195      83         78\n",
      "NM         60       6         27\n",
      "NV         53      27         11\n",
      "NY        340      86         59\n",
      "OH        353     147        115\n",
      "OK         91      46         30\n",
      "OR         75      28         38\n",
      "PA        344     141        111\n",
      "PR         51       0         30\n",
      "RI         17       1          4\n",
      "SC        161      45         75\n",
      "SD         32       4          1\n",
      "TN        217      73         74\n",
      "TX        772     271        242\n",
      "UT         49       6         11\n",
      "VA        212      92         80\n",
      "VI          4       0          0\n",
      "VT          9       0          1\n",
      "WA        106      42         25\n",
      "WI        130      58         37\n",
      "WV         46      13         31\n",
      "WY         10       0          1\n"
     ]
    }
   ],
   "source": [
    "merge_data['chainnam'] = merge_data['chainnam'].astype('str')\n",
    "merge_data['davita'] = merge_data['chainnam'].apply(lambda x : 'DAVITA' in x)\n",
    "merge_data['fresenius'] = merge_data['chainnam'].apply(lambda x : 'FRESENIUS' in x)\n",
    "grouped_data = merge_data.groupby('state').agg({'provfs':'count','davita':'sum','fresenius':'sum'})\n",
    "grouped_data.to_csv('data/Provider_Per_State.csv')\n",
    "print(grouped_data)"
   ]
  },
  {
   "cell_type": "code",
   "execution_count": null,
   "id": "23a69c6b",
   "metadata": {},
   "outputs": [],
   "source": [
    "addresses = ['50 w 96th street, new york, new york, 10025',\"61 Deal St, Harrington Park, NJ 07640\" ]\n",
    "\n",
    "base_url = \"https://geocoding.geo.census.gov/geocoder/geographies/onelineaddress?address=%s&\\\n",
    "benchmark=Public_AR_Census2020&vintage=Census2010_Census2020&format=json\"%(addresses[0])\n",
    "response=requests.get(base_url)\n",
    "print(json.loads(response.text)['result']['addressMatches'][0]['geographies']['Counties'][0]['GEOID'])"
   ]
  },
  {
   "cell_type": "code",
   "execution_count": null,
   "id": "0a638075",
   "metadata": {},
   "outputs": [],
   "source": []
  }
 ],
 "metadata": {
  "kernelspec": {
   "display_name": "Python 3 (ipykernel)",
   "language": "python",
   "name": "python3"
  },
  "language_info": {
   "codemirror_mode": {
    "name": "ipython",
    "version": 3
   },
   "file_extension": ".py",
   "mimetype": "text/x-python",
   "name": "python",
   "nbconvert_exporter": "python",
   "pygments_lexer": "ipython3",
   "version": "3.9.7"
  }
 },
 "nbformat": 4,
 "nbformat_minor": 5
}
