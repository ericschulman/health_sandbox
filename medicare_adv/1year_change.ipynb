{
 "cells": [
  {
   "cell_type": "code",
   "execution_count": null,
   "id": "b9ae1884",
   "metadata": {},
   "outputs": [],
   "source": [
    "import numpy as np\n",
    "import pandas as pd\n",
    "\n",
    "import statsmodels.api as sm\n",
    "\n",
    "from sklearn.model_selection import train_test_split\n",
    "\n",
    "import matplotlib.pyplot as plt"
   ]
  },
  {
   "cell_type": "code",
   "execution_count": 1,
   "id": "26453a97",
   "metadata": {},
   "outputs": [],
   "source": [
    "def read_bid_data(year):\n",
    "    name = 'data/BPT%s_data/ma_2.txt'%(year)\n",
    "    data = pd.read_csv(name, on_bad_lines='skip',encoding = \"ISO-8859-1\",delimiter='\\t')\n",
    "    year_bids['Contract Number'] = year_bids['bid_id'].apply(lambda x : x[:5])\n",
    "    year_bids['Plan ID'] = year_bids['bid_id'].apply(lambda x : x[6:9])\n",
    "    year_bids = year_bids[year_bids['allow_o0013']!='*'] \n",
    "    year_bids['allow_o0013'] = year_bids['allow_o0013'].astype('int')    \n",
    "    year_bids_group = year_bids.groupby(['Plan ID','Contract Number'],as_index=False)['allow_o0013'].sum()\n",
    "    return data[['bid_id','allow_o0013']]\n"
   ]
  },
  {
   "cell_type": "code",
   "execution_count": null,
   "id": "bf319f53",
   "metadata": {},
   "outputs": [],
   "source": []
  }
 ],
 "metadata": {
  "kernelspec": {
   "display_name": "Python 3 (ipykernel)",
   "language": "python",
   "name": "python3"
  },
  "language_info": {
   "codemirror_mode": {
    "name": "ipython",
    "version": 3
   },
   "file_extension": ".py",
   "mimetype": "text/x-python",
   "name": "python",
   "nbconvert_exporter": "python",
   "pygments_lexer": "ipython3",
   "version": "3.9.7"
  }
 },
 "nbformat": 4,
 "nbformat_minor": 5
}
