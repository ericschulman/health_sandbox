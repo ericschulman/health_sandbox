{
 "cells": [
  {
   "cell_type": "code",
   "execution_count": 1,
   "id": "8f21ac4a",
   "metadata": {},
   "outputs": [],
   "source": [
    "%load_ext autoreload\n",
    "%autoreload 2\n",
    "from ml_tools import *\n",
    "\n",
    "\n",
    "import pandas as pd\n",
    "import numpy as np\n",
    "import matplotlib.pylab as plt\n",
    "import random\n",
    "\n",
    "from xgboost import plot_importance\n",
    "from xgboost import XGBRegressor\n",
    "import statsmodels.api as sm\n",
    "\n",
    "from sklearn.model_selection import train_test_split"
   ]
  },
  {
   "cell_type": "code",
   "execution_count": 2,
   "id": "0e966d0f",
   "metadata": {
    "scrolled": true
   },
   "outputs": [
    {
     "name": "stderr",
     "output_type": "stream",
     "text": [
      "/home/erichschulman/anaconda3/lib/python3.9/site-packages/statsmodels/tsa/tsatools.py:142: FutureWarning: In a future version of pandas all arguments of concat except for the argument 'objs' will be keyword-only\n",
      "  x = pd.concat(x[::order], 1)\n"
     ]
    },
    {
     "data": {
      "image/png": "[encoded data removed]",
      "text/plain": [
       "<Figure size 432x288 with 1 Axes>"
      ]
     },
     "metadata": {
      "needs_background": "light"
     },
     "output_type": "display_data"
    },
    {
     "name": "stdout",
     "output_type": "stream",
     "text": [
      "1     49.407586\n",
      "5     49.431244\n",
      "8     49.432588\n",
      "11    49.446508\n",
      "2     49.447168\n",
      "19    49.449685\n",
      "12    49.462337\n",
      "18    49.478025\n",
      "0     49.486327\n",
      "13    49.495774\n",
      "7     49.496976\n",
      "3     49.498315\n",
      "17    49.498505\n",
      "6     49.501946\n",
      "10    49.511615\n",
      "4     49.516373\n",
      "15    49.517995\n",
      "9     49.534598\n",
      "14    49.535141\n",
      "16    49.560991\n",
      "Name: score, dtype: float64\n",
      "alpha_value: 500\n",
      "24466.590408014534 0.5043864608885986\n",
      "24316.3107909163 0.49315821378739644\n",
      "==========================================\n",
      "==========================================\n"
     ]
    },
    {
     "data": {
      "image/png": "[encoded data removed]",
      "text/plain": [
       "<Figure size 432x288 with 1 Axes>"
      ]
     },
     "metadata": {
      "needs_background": "light"
     },
     "output_type": "display_data"
    },
    {
     "name": "stdout",
     "output_type": "stream",
     "text": [
      "1     49.119687\n",
      "8     49.149702\n",
      "5     49.158885\n",
      "19    49.166541\n",
      "11    49.169994\n",
      "2     49.174178\n",
      "12    49.191977\n",
      "18    49.205806\n",
      "0     49.218321\n",
      "7     49.235717\n",
      "17    49.239515\n",
      "6     49.242907\n",
      "3     49.244382\n",
      "10    49.253413\n",
      "13    49.255821\n",
      "4     49.269939\n",
      "15    49.285245\n",
      "9     49.285924\n",
      "14    49.302400\n",
      "16    49.334670\n",
      "Name: score, dtype: float64\n",
      "alpha_value: 750\n",
      "24469.90654646625 0.5043192730538335\n",
      "24319.401008337158 0.49309380223537935\n",
      "==========================================\n",
      "==========================================\n"
     ]
    },
    {
     "data": {
      "image/png": "[encoded data removed]",
      "text/plain": [
       "<Figure size 432x288 with 1 Axes>"
      ]
     },
     "metadata": {
      "needs_background": "light"
     },
     "output_type": "display_data"
    },
    {
     "name": "stdout",
     "output_type": "stream",
     "text": [
      "18    18\n",
      "16    16\n",
      "12    12\n",
      "9      9\n",
      "0      0\n",
      "11    11\n",
      "17    17\n",
      "15    15\n",
      "14    14\n",
      "13    13\n",
      "10    10\n",
      "1      1\n",
      "8      8\n",
      "5      5\n",
      "4      4\n",
      "3      3\n",
      "2      2\n",
      "7      7\n",
      "6      6\n",
      "19    19\n",
      "Name: features, dtype: object\n",
      "27586.609129049448 0.4411825289306245\n",
      "27378.863505372716 0.4332643968746177\n"
     ]
    },
    {
     "data": {
      "image/png": "[encoded data removed]",
      "text/plain": [
       "<Figure size 432x288 with 1 Axes>"
      ]
     },
     "metadata": {
      "needs_background": "light"
     },
     "output_type": "display_data"
    },
    {
     "name": "stdout",
     "output_type": "stream",
     "text": [
      "3      3\n",
      "1      1\n",
      "13    13\n",
      "7      7\n",
      "14    14\n",
      "17    17\n",
      "4      4\n",
      "11    11\n",
      "12    12\n",
      "10    10\n",
      "16    16\n",
      "0      0\n",
      "8      8\n",
      "6      6\n",
      "2      2\n",
      "18    18\n",
      "15    15\n",
      "5      5\n",
      "19    19\n",
      "9      9\n",
      "Name: features, dtype: object\n",
      "28206.027671201784 0.42861433064273086\n",
      "27901.730535854465 0.42185595527529207\n"
     ]
    }
   ],
   "source": [
    "# Generating 'fake' data\n",
    "def gen_data(nobs, num_cov, m, num_relevant_cov):\n",
    "    x_1 = np.random.normal(scale=1., size=(nobs, num_relevant_cov))\n",
    "    x_2 = np.random.normal(scale=1., size=(nobs, num_cov))\n",
    "    e = np.random.normal(loc=0.0, scale=1.0, size=(nobs))\n",
    "    y = (x_1.sum(axis=1) * m) + e\n",
    "    X = np.column_stack((x_1, x_2))\n",
    "    return pd.DataFrame(y), pd.DataFrame(X)\n",
    "\n",
    "\n",
    "num_trials = 5\n",
    "y,X = gen_data(5000,200,50,20)\n",
    "training_test = train_test_pfold(X,y, num_trials = 5)\n",
    "\n",
    "\n",
    "# Vary alpha values\n",
    "a = [500,750]\n",
    "\n",
    "for i in a: \n",
    "    run_lasso(i,training_test)\n",
    "    \n",
    "params = [(1,.2, 0.9, .9),(2,.1, 0.9, .5)]\n",
    "\n",
    "for a in params:\n",
    "    run_tree(a,training_test)"
   ]
  },
  {
   "cell_type": "code",
   "execution_count": 3,
   "id": "64f19a42",
   "metadata": {
    "scrolled": false
   },
   "outputs": [
    {
     "data": {
      "image/png": "[encoded data removed]",
      "text/plain": [
       "<Figure size 432x288 with 1 Axes>"
      ]
     },
     "metadata": {
      "needs_background": "light"
     },
     "output_type": "display_data"
    },
    {
     "name": "stdout",
     "output_type": "stream",
     "text": [
      "154     0.000000\n",
      "18      1.949628\n",
      "17      4.490250\n",
      "16      7.009564\n",
      "15      9.529492\n",
      "14     12.020445\n",
      "13     14.527095\n",
      "12     17.015738\n",
      "11     19.505505\n",
      "10     21.987320\n",
      "9      24.539922\n",
      "8      26.973164\n",
      "7      29.523759\n",
      "6      31.967406\n",
      "5      34.439078\n",
      "4      37.060180\n",
      "3      39.540711\n",
      "2      41.991760\n",
      "1      44.549853\n",
      "0      46.959920\n",
      "Name: score, dtype: float64\n",
      "alpha_value: 500\n",
      "7658.225661763159 0.5078743910018252\n",
      "7758.067315968859 0.5063221977540079\n",
      "==========================================\n",
      "==========================================\n"
     ]
    },
    {
     "data": {
      "image/png": "[encoded data removed]",
      "text/plain": [
       "<Figure size 432x288 with 1 Axes>"
      ]
     },
     "metadata": {
      "needs_background": "light"
     },
     "output_type": "display_data"
    },
    {
     "name": "stdout",
     "output_type": "stream",
     "text": [
      "154     0.000000\n",
      "18      1.684875\n",
      "17      4.236362\n",
      "16      6.757211\n",
      "15      9.295128\n",
      "14     11.776116\n",
      "13     14.283300\n",
      "12     16.778346\n",
      "11     19.261741\n",
      "10     21.736485\n",
      "9      24.312530\n",
      "8      26.722500\n",
      "7      29.286078\n",
      "6      31.687900\n",
      "5      34.165662\n",
      "4      36.828088\n",
      "3      39.301200\n",
      "2      41.733264\n",
      "1      44.321794\n",
      "0      46.682145\n",
      "Name: score, dtype: float64\n",
      "alpha_value: 750\n",
      "7661.2221456255475 0.5076818621355745\n",
      "7761.026953895048 0.5061125050195387\n",
      "==========================================\n",
      "==========================================\n"
     ]
    },
    {
     "data": {
      "image/png": "[encoded data removed]",
      "text/plain": [
       "<Figure size 432x288 with 1 Axes>"
      ]
     },
     "metadata": {
      "needs_background": "light"
     },
     "output_type": "display_data"
    },
    {
     "name": "stdout",
     "output_type": "stream",
     "text": [
      "0      0\n",
      "1      1\n",
      "2      2\n",
      "3      3\n",
      "4      4\n",
      "5      5\n",
      "6      6\n",
      "8      8\n",
      "7      7\n",
      "9      9\n",
      "10    10\n",
      "11    11\n",
      "12    12\n",
      "13    13\n",
      "14    14\n",
      "15    15\n",
      "16    16\n",
      "Name: features, dtype: object\n",
      "8215.609614400915 0.4720238911049103\n",
      "8271.705462090626 0.4703579976011184\n"
     ]
    },
    {
     "data": {
      "image/png": "[encoded data removed]",
      "text/plain": [
       "<Figure size 432x288 with 1 Axes>"
      ]
     },
     "metadata": {
      "needs_background": "light"
     },
     "output_type": "display_data"
    },
    {
     "name": "stdout",
     "output_type": "stream",
     "text": [
      "0      0\n",
      "1      1\n",
      "3      3\n",
      "4      4\n",
      "2      2\n",
      "5      5\n",
      "6      6\n",
      "7      7\n",
      "9      9\n",
      "8      8\n",
      "11    11\n",
      "10    10\n",
      "12    12\n",
      "13    13\n",
      "14    14\n",
      "15    15\n",
      "16    16\n",
      "18    46\n",
      "17    42\n",
      "19    61\n",
      "Name: features, dtype: object\n",
      "8345.675299408867 0.4636865482909089\n",
      "8361.74836170114 0.46171983490678903\n"
     ]
    }
   ],
   "source": [
    "# Generating 'fake' data\n",
    "def gen_data(nobs, num_cov, m, num_relevant_cov):\n",
    "    x_1 = np.random.normal(scale=1., size=(nobs, num_relevant_cov))\n",
    "    x_2 = np.random.normal(scale=1., size=(nobs, num_cov))\n",
    "    e = np.random.normal(loc=0.0, scale=1.0, size=(nobs))\n",
    "    m = np.arange(num_relevant_cov)[::-1]*m/num_relevant_cov\n",
    "    y = (x_1 * m).sum(axis=1) + e\n",
    "    X = np.column_stack((x_1, x_2))\n",
    "    return pd.DataFrame(y), pd.DataFrame(X)\n",
    "\n",
    "\n",
    "num_trials = 5\n",
    "y,X = gen_data(5000,200,50,20)\n",
    "training_test = train_test_pfold(X,y, num_trials = 5)\n",
    "\n",
    "\n",
    "# Vary alpha values\n",
    "a = [500,750]\n",
    "\n",
    "for i in a: \n",
    "    run_lasso(i,training_test)\n",
    "    \n",
    "params = [(1,.2, 0.9, .9),(2,.1, 0.9, .5)]\n",
    "\n",
    "for a in params:\n",
    "    run_tree(a,training_test)"
   ]
  },
  {
   "cell_type": "code",
   "execution_count": 4,
   "id": "8f78b122",
   "metadata": {
    "scrolled": false
   },
   "outputs": [
    {
     "data": {
      "image/png": "[encoded data removed]",
      "text/plain": [
       "<Figure size 432x288 with 1 Axes>"
      ]
     },
     "metadata": {
      "needs_background": "light"
     },
     "output_type": "display_data"
    },
    {
     "name": "stdout",
     "output_type": "stream",
     "text": [
      "46    0.231600\n",
      "39    0.249947\n",
      "27    0.250946\n",
      "26    0.264740\n",
      "54    0.294875\n",
      "20    0.410870\n",
      "13    3.200085\n",
      "12    3.691941\n",
      "11    4.151440\n",
      "10    4.963919\n",
      "9     5.174209\n",
      "8     5.753021\n",
      "7     6.172665\n",
      "6     6.845641\n",
      "5     7.216655\n",
      "4     7.839543\n",
      "3     8.267186\n",
      "2     8.837712\n",
      "1     9.149186\n",
      "0     9.824465\n",
      "Name: score, dtype: float64\n",
      "alpha_value: 750\n",
      "2562.2709009008 0.5043279895614239\n",
      "2577.9032999854535 0.5153609882853863\n",
      "==========================================\n",
      "==========================================\n"
     ]
    },
    {
     "data": {
      "image/png": "[encoded data removed]",
      "text/plain": [
       "<Figure size 432x288 with 1 Axes>"
      ]
     },
     "metadata": {
      "needs_background": "light"
     },
     "output_type": "display_data"
    },
    {
     "name": "stdout",
     "output_type": "stream",
     "text": [
      "23    0.203766\n",
      "46    0.212215\n",
      "24    0.272459\n",
      "60    0.274476\n",
      "55    0.280412\n",
      "54    0.296548\n",
      "13    3.186378\n",
      "12    3.677920\n",
      "11    4.160551\n",
      "10    4.941747\n",
      "9     5.186383\n",
      "8     5.751387\n",
      "7     6.177330\n",
      "6     6.840840\n",
      "5     7.211393\n",
      "4     7.820303\n",
      "3     8.271706\n",
      "2     8.810554\n",
      "1     9.125237\n",
      "0     9.812907\n",
      "Name: score, dtype: float64\n",
      "alpha_value: 1000\n",
      "2563.1213688272505 0.5041620867903913\n",
      "2578.5748808980875 0.5152817096013691\n",
      "==========================================\n",
      "==========================================\n"
     ]
    },
    {
     "data": {
      "image/png": "[encoded data removed]",
      "text/plain": [
       "<Figure size 432x288 with 1 Axes>"
      ]
     },
     "metadata": {
      "needs_background": "light"
     },
     "output_type": "display_data"
    },
    {
     "name": "stdout",
     "output_type": "stream",
     "text": [
      "0      0\n",
      "3      3\n",
      "6      6\n",
      "1      1\n",
      "2      2\n",
      "7      7\n",
      "4      4\n",
      "5      5\n",
      "8      8\n",
      "9      9\n",
      "11    11\n",
      "10    10\n",
      "12    12\n",
      "13    13\n",
      "15    15\n",
      "14    14\n",
      "16    16\n",
      "17    21\n",
      "18    48\n",
      "19    59\n",
      "Name: features, dtype: object\n",
      "2622.988979670604 0.49259262614900745\n",
      "2650.0191641513247 0.5018735933406986\n"
     ]
    },
    {
     "data": {
      "image/png": "[encoded data removed]",
      "text/plain": [
       "<Figure size 432x288 with 1 Axes>"
      ]
     },
     "metadata": {
      "needs_background": "light"
     },
     "output_type": "display_data"
    },
    {
     "name": "stdout",
     "output_type": "stream",
     "text": [
      "3       3\n",
      "1       1\n",
      "0       0\n",
      "5       5\n",
      "6       6\n",
      "7       7\n",
      "2       2\n",
      "4       4\n",
      "8       8\n",
      "9       9\n",
      "11     11\n",
      "13     13\n",
      "10     10\n",
      "12     12\n",
      "15     15\n",
      "16     16\n",
      "14     14\n",
      "44    114\n",
      "33     78\n",
      "18     18\n",
      "Name: features, dtype: object\n",
      "2611.145906963432 0.494881198665963\n",
      "2630.1599229786625 0.505787229813583\n"
     ]
    }
   ],
   "source": [
    "#add correlation with certain covariates \n",
    "\n",
    "def gen_data(nobs, num_cov, m, num_relevant_cov, num_latent):\n",
    "    #each relevant cov is generates num_cov more...\n",
    "    \n",
    "    #only the first n of each is relevant...\n",
    "    x_1 = np.random.normal(scale=1., size=(nobs, num_relevant_cov))\n",
    "    x_2 = np.random.normal(scale=1., size=(nobs, num_cov))\n",
    "    x_3 = np.random.normal(scale=1., size=(nobs, num_latent))\n",
    "    \n",
    "    #add in the latent variable\n",
    "    tile_1 = np.tile(x_3,int(num_relevant_cov/num_latent))\n",
    "    tile_2 = np.tile(x_3,int(num_cov/num_latent))\n",
    "    x_1  = x_1 + tile_1\n",
    "    x_2 = x_2 + tile_2\n",
    "    \n",
    "    e = np.random.normal(loc=0.0, scale=1.0, size=(nobs))\n",
    "    m = np.arange(num_relevant_cov)[::-1]*m/num_relevant_cov\n",
    "    y = (x_1 * m).sum(axis=1) + e\n",
    "    X = np.column_stack((x_1, x_2))\n",
    "    return pd.DataFrame(y), pd.DataFrame(X)\n",
    "\n",
    "\n",
    "num_trials = 5\n",
    "y,X = gen_data(5000,100,10,20,2)\n",
    "training_test = train_test_pfold(X,y, num_trials = 5)\n",
    "\n",
    "\n",
    "# Vary alpha values\n",
    "a = [750,1000]\n",
    "\n",
    "for i in a: \n",
    "    run_lasso(i,training_test)\n",
    "    \n",
    "params = [(1,.2, 0.9, .9),(2,.1, 0.9, .5)]\n",
    "\n",
    "for a in params:\n",
    "    run_tree(a,training_test)"
   ]
  },
  {
   "cell_type": "code",
   "execution_count": 6,
   "id": "f5a17538",
   "metadata": {
    "scrolled": false
   },
   "outputs": [
    {
     "name": "stdout",
     "output_type": "stream",
     "text": [
      "The autoreload extension is already loaded. To reload it, use:\n",
      "  %reload_ext autoreload\n"
     ]
    },
    {
     "data": {
      "image/png": "[encoded data removed]",
      "text/plain": [
       "<Figure size 432x288 with 1 Axes>"
      ]
     },
     "metadata": {
      "needs_background": "light"
     },
     "output_type": "display_data"
    },
    {
     "name": "stdout",
     "output_type": "stream",
     "text": [
      "31     2.791807\n",
      "38     2.816872\n",
      "95     2.915980\n",
      "89     3.027504\n",
      "13     3.088068\n",
      "73     3.819571\n",
      "19     3.930182\n",
      "17     4.314668\n",
      "97     4.618473\n",
      "34     4.736102\n",
      "83     4.747673\n",
      "48     4.786363\n",
      "7      8.838768\n",
      "5     16.102425\n",
      "6     16.109184\n",
      "4     22.789073\n",
      "3     33.372600\n",
      "2     35.368896\n",
      "1     37.783950\n",
      "0     43.898385\n",
      "Name: score, dtype: float64\n",
      "alpha_value: 750\n",
      "20232.456563353244 0.13983864495018775\n",
      "20363.333107554266 0.14361686506762195\n",
      "==========================================\n",
      "==========================================\n"
     ]
    },
    {
     "data": {
      "image/png": "[encoded data removed]",
      "text/plain": [
       "<Figure size 432x288 with 1 Axes>"
      ]
     },
     "metadata": {
      "needs_background": "light"
     },
     "output_type": "display_data"
    },
    {
     "name": "stdout",
     "output_type": "stream",
     "text": [
      "63     2.537202\n",
      "31     2.540223\n",
      "95     2.676311\n",
      "89     2.789645\n",
      "13     2.897410\n",
      "73     3.597228\n",
      "19     3.704836\n",
      "17     4.093865\n",
      "97     4.414311\n",
      "83     4.481483\n",
      "34     4.490435\n",
      "48     4.560334\n",
      "7      8.603739\n",
      "6     15.856859\n",
      "5     15.903115\n",
      "4     22.498177\n",
      "3     33.108110\n",
      "2     35.054413\n",
      "1     37.546070\n",
      "0     43.639071\n",
      "Name: score, dtype: float64\n",
      "alpha_value: 1000\n",
      "20199.143758703216 0.14126390303868241\n",
      "20354.407241754332 0.14513243247973961\n",
      "==========================================\n",
      "==========================================\n"
     ]
    },
    {
     "data": {
      "image/png": "[encoded data removed]",
      "text/plain": [
       "<Figure size 432x288 with 1 Axes>"
      ]
     },
     "metadata": {
      "needs_background": "light"
     },
     "output_type": "display_data"
    },
    {
     "name": "stdout",
     "output_type": "stream",
     "text": [
      "0       0\n",
      "2       2\n",
      "1       1\n",
      "3       3\n",
      "4       4\n",
      "6       6\n",
      "5       5\n",
      "7       7\n",
      "9       9\n",
      "27     96\n",
      "31    108\n",
      "11     19\n",
      "22     83\n",
      "30    100\n",
      "29     98\n",
      "28     97\n",
      "8       8\n",
      "26     91\n",
      "25     90\n",
      "24     88\n",
      "Name: features, dtype: object\n",
      "20398.20771244392 0.13288783350851013\n",
      "20462.38816310433 0.13475350809053932\n"
     ]
    },
    {
     "data": {
      "image/png": "[encoded data removed]",
      "text/plain": [
       "<Figure size 432x288 with 1 Axes>"
      ]
     },
     "metadata": {
      "needs_background": "light"
     },
     "output_type": "display_data"
    },
    {
     "name": "stdout",
     "output_type": "stream",
     "text": [
      "0      0\n",
      "2      2\n",
      "3      3\n",
      "1      1\n",
      "4      4\n",
      "5      5\n",
      "6      6\n",
      "18    21\n",
      "10    11\n",
      "9      9\n",
      "7      7\n",
      "19    23\n",
      "21    27\n",
      "17    20\n",
      "12    13\n",
      "22    29\n",
      "33    49\n",
      "26    34\n",
      "47    91\n",
      "8      8\n",
      "Name: features, dtype: object\n",
      "20031.660256184685 0.1485267447919057\n",
      "19913.474149055764 0.14730850608683244\n"
     ]
    }
   ],
   "source": [
    "%load_ext autoreload\n",
    "%autoreload 2\n",
    "from ml_tools import *\n",
    "\n",
    "\n",
    "#add in interaction terms\n",
    "\n",
    "def gen_data(nobs, num_cov, m, num_relevant_cov,num_latent):\n",
    "    #each relevant cov is generates num_cov more...\n",
    "    \n",
    "    #only the first n of each is relevant...\n",
    "    x_1 = np.random.normal(scale=1., size=(nobs, num_relevant_cov))\n",
    "    x_2 = np.random.normal(scale=1., size=(nobs, num_cov))\n",
    "    #create all interations between x1 and x3\n",
    "    x_1_interact = np.zeros((nobs,num_relevant_cov*num_latent))\n",
    "    for i in range(num_relevant_cov):\n",
    "        for j in range(num_latent):\n",
    "            x_1_interact[:,i*j] = x_1[:,i]*x_2[:,j]\n",
    "    \n",
    "    e = np.random.normal(loc=0.0, scale=1.0, size=(nobs))\n",
    "    \n",
    "    m_coef = np.arange(num_relevant_cov)[::-1]*m/num_relevant_cov\n",
    "    #m_tile = 2*m*np.ones(num_relevant_cov*num_latent) \n",
    "    m_tile = np.tile(m_coef,num_latent)/2\n",
    "    y = (x_1 * m_coef).sum(axis=1) + (x_1_interact * m_tile).sum(axis=1) + e\n",
    "    \n",
    "    \n",
    "    X = np.column_stack((x_1, x_2))\n",
    "    return pd.DataFrame(y), pd.DataFrame(X)\n",
    "\n",
    "\n",
    "num_trials = 5\n",
    "y,X = gen_data(5000,100,50,10,20)\n",
    "training_test = train_test_pfold(X,y, num_trials = 5)\n",
    "\n",
    "\n",
    "# Vary alpha values\n",
    "a = [750,1000]\n",
    "\n",
    "for i in a: \n",
    "    run_lasso(i,training_test)\n",
    "    \n",
    "params = [(1,.2, 0.9, .9),(2,.1, 0.9, .5)]\n",
    "\n",
    "for a in params:\n",
    "    run_tree(a,training_test)"
   ]
  },
  {
   "cell_type": "code",
   "execution_count": null,
   "id": "3fcddcc0",
   "metadata": {},
   "outputs": [],
   "source": []
  },
  {
   "cell_type": "code",
   "execution_count": null,
   "id": "12a9773e",
   "metadata": {},
   "outputs": [],
   "source": []
  },
  {
   "cell_type": "code",
   "execution_count": null,
   "id": "623da65d",
   "metadata": {},
   "outputs": [],
   "source": []
  }
 ],
 "metadata": {
  "kernelspec": {
   "display_name": "Python 3 (ipykernel)",
   "language": "python",
   "name": "python3"
  },
  "language_info": {
   "codemirror_mode": {
    "name": "ipython",
    "version": 3
   },
   "file_extension": ".py",
   "mimetype": "text/x-python",
   "name": "python",
   "nbconvert_exporter": "python",
   "pygments_lexer": "ipython3",
   "version": "3.9.7"
  }
 },
 "nbformat": 4,
 "nbformat_minor": 5
}
