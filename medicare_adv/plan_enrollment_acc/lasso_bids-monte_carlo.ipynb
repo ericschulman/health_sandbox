{
 "cells": [
  {
   "cell_type": "code",
   "execution_count": 1,
   "id": "8f21ac4a",
   "metadata": {},
   "outputs": [],
   "source": [
    "%load_ext autoreload\n",
    "%autoreload 2\n",
    "import sys\n",
    "sys.path.append(\"../\")\n",
    "from ml_tools import *\n",
    "\n",
    "\n",
    "import pandas as pd\n",
    "import numpy as np\n",
    "import matplotlib.pylab as plt\n",
    "import random\n",
    "\n",
    "from xgboost import plot_importance\n",
    "from xgboost import XGBRegressor\n",
    "import statsmodels.api as sm\n",
    "\n",
    "from sklearn.model_selection import train_test_split"
   ]
  },
  {
   "cell_type": "code",
   "execution_count": 2,
   "id": "0e966d0f",
   "metadata": {
    "scrolled": false
   },
   "outputs": [
    {
     "name": "stderr",
     "output_type": "stream",
     "text": [
      "/home/erichschulman/anaconda3/lib/python3.9/site-packages/statsmodels/tsa/tsatools.py:142: FutureWarning: In a future version of pandas all arguments of concat except for the argument 'objs' will be keyword-only\n",
      "  x = pd.concat(x[::order], 1)\n"
     ]
    },
    {
     "data": {
      "image/png": "[encoded data removed]",
      "text/plain": [
       "<Figure size 432x288 with 1 Axes>"
      ]
     },
     "metadata": {
      "needs_background": "light"
     },
     "output_type": "display_data"
    },
    {
     "name": "stdout",
     "output_type": "stream",
     "text": [
      "16    49.339483\n",
      "10    49.392553\n",
      "7     49.406812\n",
      "11    49.428546\n",
      "14    49.431090\n",
      "4     49.440637\n",
      "2     49.471620\n",
      "6     49.471991\n",
      "3     49.472310\n",
      "0     49.473825\n",
      "1     49.483554\n",
      "17    49.483921\n",
      "5     49.487396\n",
      "9     49.489524\n",
      "8     49.500381\n",
      "18    49.502298\n",
      "19    49.532062\n",
      "15    49.532614\n",
      "12    49.536328\n",
      "13    49.562027\n",
      "Name: score, dtype: float64\n",
      "alpha_value: 500\n",
      "23732.12774580237 0.4910800819300899\n",
      "24388.313774529925 0.4973100529844997\n",
      "==========================================\n",
      "==========================================\n"
     ]
    },
    {
     "data": {
      "image/png": "[encoded data removed]",
      "text/plain": [
       "<Figure size 432x288 with 1 Axes>"
      ]
     },
     "metadata": {
      "needs_background": "light"
     },
     "output_type": "display_data"
    },
    {
     "name": "stdout",
     "output_type": "stream",
     "text": [
      "16    49.014878\n",
      "10    49.103030\n",
      "7     49.107189\n",
      "11    49.153219\n",
      "4     49.160289\n",
      "14    49.162155\n",
      "6     49.197351\n",
      "2     49.200733\n",
      "1     49.213472\n",
      "0     49.213538\n",
      "3     49.216816\n",
      "9     49.224882\n",
      "17    49.226132\n",
      "5     49.233039\n",
      "18    49.257703\n",
      "8     49.266887\n",
      "19    49.287679\n",
      "15    49.287705\n",
      "12    49.306124\n",
      "13    49.331230\n",
      "Name: score, dtype: float64\n",
      "alpha_value: 750\n",
      "23735.180159022075 0.4910146348840853\n",
      "24391.611589155105 0.4972420786967108\n",
      "==========================================\n",
      "==========================================\n"
     ]
    },
    {
     "data": {
      "image/png": "[encoded data removed]",
      "text/plain": [
       "<Figure size 432x288 with 1 Axes>"
      ]
     },
     "metadata": {
      "needs_background": "light"
     },
     "output_type": "display_data"
    },
    {
     "name": "stdout",
     "output_type": "stream",
     "text": [
      "1      1\n",
      "17    17\n",
      "8      8\n",
      "0      0\n",
      "18    18\n",
      "16    16\n",
      "15    15\n",
      "13    13\n",
      "12    12\n",
      "11    11\n",
      "10    10\n",
      "9      9\n",
      "7      7\n",
      "6      6\n",
      "5      5\n",
      "3      3\n",
      "2      2\n",
      "19    19\n",
      "14    14\n",
      "4      4\n",
      "Name: features, dtype: object\n",
      "26730.773550582973 0.42668879836054163\n",
      "27497.025617580704 0.4332335364152531\n"
     ]
    },
    {
     "data": {
      "image/png": "[encoded data removed]",
      "text/plain": [
       "<Figure size 432x288 with 1 Axes>"
      ]
     },
     "metadata": {
      "needs_background": "light"
     },
     "output_type": "display_data"
    },
    {
     "name": "stdout",
     "output_type": "stream",
     "text": [
      "12    12\n",
      "11    11\n",
      "5      5\n",
      "13    13\n",
      "2      2\n",
      "19    19\n",
      "6      6\n",
      "17    17\n",
      "8      8\n",
      "15    15\n",
      "3      3\n",
      "1      1\n",
      "14    14\n",
      "0      0\n",
      "9      9\n",
      "16    16\n",
      "7      7\n",
      "4      4\n",
      "10    10\n",
      "18    18\n",
      "Name: features, dtype: object\n",
      "27291.80933356558 0.41462406507378324\n",
      "28089.5021624209 0.42102145788915635\n"
     ]
    }
   ],
   "source": [
    "# Generating 'fake' data\n",
    "def gen_data(nobs, num_cov, m, num_relevant_cov):\n",
    "    x_1 = np.random.normal(scale=1., size=(nobs, num_relevant_cov))\n",
    "    x_2 = np.random.normal(scale=1., size=(nobs, num_cov))\n",
    "    e = np.random.normal(loc=0.0, scale=1.0, size=(nobs))\n",
    "    y = (x_1.sum(axis=1) * m) + e\n",
    "    X = np.column_stack((x_1, x_2))\n",
    "    return pd.DataFrame(y), pd.DataFrame(X)\n",
    "\n",
    "\n",
    "num_trials = 5\n",
    "y,X = gen_data(5000,200,50,20)\n",
    "training_test = train_test_pfold(X,y, num_trials = 5)\n",
    "\n",
    "\n",
    "# Vary alpha values\n",
    "a = [500,750]\n",
    "\n",
    "for i in a: \n",
    "    run_lasso(i,training_test)\n",
    "    \n",
    "params = [(1,.2, 0.9, .9),(2,.1, 0.9, .5)]\n",
    "\n",
    "for a in params:\n",
    "    run_tree(a,training_test)"
   ]
  },
  {
   "cell_type": "code",
   "execution_count": 3,
   "id": "64f19a42",
   "metadata": {
    "scrolled": false
   },
   "outputs": [
    {
     "data": {
      "image/png": "[encoded data removed]",
      "text/plain": [
       "<Figure size 432x288 with 1 Axes>"
      ]
     },
     "metadata": {
      "needs_background": "light"
     },
     "output_type": "display_data"
    },
    {
     "name": "stdout",
     "output_type": "stream",
     "text": [
      "154     0.000000\n",
      "18      2.043682\n",
      "17      4.450078\n",
      "16      7.015737\n",
      "15      9.497873\n",
      "14     12.003895\n",
      "13     14.536592\n",
      "12     17.077433\n",
      "11     19.487127\n",
      "10     22.032003\n",
      "9      24.501676\n",
      "8      26.998313\n",
      "7      29.561619\n",
      "6      31.980935\n",
      "5      34.552259\n",
      "4      37.001640\n",
      "3      39.516289\n",
      "2      42.066829\n",
      "1      44.553237\n",
      "0      47.021637\n",
      "Name: score, dtype: float64\n",
      "alpha_value: 500\n",
      "8200.261869716971 0.4814369757566873\n",
      "8229.44565009207 0.4831945200298807\n",
      "==========================================\n",
      "==========================================\n"
     ]
    },
    {
     "data": {
      "image/png": "[encoded data removed]",
      "text/plain": [
       "<Figure size 432x288 with 1 Axes>"
      ]
     },
     "metadata": {
      "needs_background": "light"
     },
     "output_type": "display_data"
    },
    {
     "name": "stdout",
     "output_type": "stream",
     "text": [
      "154     0.000000\n",
      "18      1.820332\n",
      "17      4.182081\n",
      "16      6.781120\n",
      "15      9.248328\n",
      "14     11.755568\n",
      "13     14.301759\n",
      "12     16.861377\n",
      "11     19.238162\n",
      "10     21.792119\n",
      "9      24.251389\n",
      "8      26.750449\n",
      "7      29.336317\n",
      "6      31.709950\n",
      "5      34.319250\n",
      "4      36.749393\n",
      "3      39.266908\n",
      "2      41.831871\n",
      "1      44.328056\n",
      "0      46.778317\n",
      "Name: score, dtype: float64\n",
      "alpha_value: 750\n",
      "8203.114179387358 0.4812565564849464\n",
      "8232.466029812726 0.48301913645671435\n",
      "==========================================\n",
      "==========================================\n"
     ]
    },
    {
     "data": {
      "image/png": "[encoded data removed]",
      "text/plain": [
       "<Figure size 432x288 with 1 Axes>"
      ]
     },
     "metadata": {
      "needs_background": "light"
     },
     "output_type": "display_data"
    },
    {
     "name": "stdout",
     "output_type": "stream",
     "text": [
      "0      0\n",
      "3      3\n",
      "1      1\n",
      "2      2\n",
      "4      4\n",
      "5      5\n",
      "6      6\n",
      "7      7\n",
      "9      9\n",
      "8      8\n",
      "10    10\n",
      "11    11\n",
      "12    12\n",
      "13    13\n",
      "14    14\n",
      "15    15\n",
      "16    16\n",
      "Name: features, dtype: object\n",
      "8718.41872433577 0.44866078040289015\n",
      "8702.308461240913 0.449440631094834\n"
     ]
    },
    {
     "data": {
      "image/png": "[encoded data removed]",
      "text/plain": [
       "<Figure size 432x288 with 1 Axes>"
      ]
     },
     "metadata": {
      "needs_background": "light"
     },
     "output_type": "display_data"
    },
    {
     "name": "stdout",
     "output_type": "stream",
     "text": [
      "1      1\n",
      "0      0\n",
      "3      3\n",
      "2      2\n",
      "5      5\n",
      "4      4\n",
      "6      6\n",
      "7      7\n",
      "8      8\n",
      "9      9\n",
      "11    11\n",
      "10    10\n",
      "14    14\n",
      "12    12\n",
      "13    13\n",
      "15    15\n",
      "16    16\n",
      "17    17\n",
      "18    18\n",
      "19    37\n",
      "Name: features, dtype: object\n",
      "8835.506916091577 0.44126097277373566\n",
      "8819.622570397429 0.4419133224694316\n"
     ]
    }
   ],
   "source": [
    "# Generating 'fake' data\n",
    "def gen_data(nobs, num_cov, m, num_relevant_cov):\n",
    "    x_1 = np.random.normal(scale=1., size=(nobs, num_relevant_cov))\n",
    "    x_2 = np.random.normal(scale=1., size=(nobs, num_cov))\n",
    "    e = np.random.normal(loc=0.0, scale=1.0, size=(nobs))\n",
    "    m = np.arange(num_relevant_cov)[::-1]*m/num_relevant_cov\n",
    "    y = (x_1 * m).sum(axis=1) + e\n",
    "    X = np.column_stack((x_1, x_2))\n",
    "    return pd.DataFrame(y), pd.DataFrame(X)\n",
    "\n",
    "\n",
    "num_trials = 5\n",
    "y,X = gen_data(5000,200,50,20)\n",
    "training_test = train_test_pfold(X,y, num_trials = 5)\n",
    "\n",
    "\n",
    "# Vary alpha values\n",
    "a = [500,750]\n",
    "\n",
    "for i in a: \n",
    "    run_lasso(i,training_test)\n",
    "    \n",
    "params = [(1,.2, 0.9, .9),(2,.1, 0.9, .5)]\n",
    "\n",
    "for a in params:\n",
    "    run_tree(a,training_test)"
   ]
  },
  {
   "cell_type": "code",
   "execution_count": 4,
   "id": "8f78b122",
   "metadata": {
    "scrolled": false
   },
   "outputs": [
    {
     "data": {
      "image/png": "[encoded data removed]",
      "text/plain": [
       "<Figure size 432x288 with 1 Axes>"
      ]
     },
     "metadata": {
      "needs_background": "light"
     },
     "output_type": "display_data"
    },
    {
     "name": "stdout",
     "output_type": "stream",
     "text": [
      "89    0.000000\n",
      "36    0.181959\n",
      "43    0.209413\n",
      "51    0.223914\n",
      "26    0.340141\n",
      "18    0.783584\n",
      "13    3.259493\n",
      "12    3.864356\n",
      "11    4.147166\n",
      "10    4.784832\n",
      "9     5.219317\n",
      "8     5.721283\n",
      "7     6.260640\n",
      "6     6.868400\n",
      "5     7.239475\n",
      "4     7.815983\n",
      "3     8.269030\n",
      "2     8.776894\n",
      "1     9.171666\n",
      "0     9.816986\n",
      "Name: score, dtype: float64\n",
      "alpha_value: 750\n",
      "2602.740174451249 0.493790085193325\n",
      "2581.4948259009116 0.4981727452293988\n",
      "==========================================\n",
      "==========================================\n"
     ]
    },
    {
     "data": {
      "image/png": "[encoded data removed]",
      "text/plain": [
       "<Figure size 432x288 with 1 Axes>"
      ]
     },
     "metadata": {
      "needs_background": "light"
     },
     "output_type": "display_data"
    },
    {
     "name": "stdout",
     "output_type": "stream",
     "text": [
      "43    0.165168\n",
      "51    0.212141\n",
      "50    0.255350\n",
      "66    0.279478\n",
      "23    0.297798\n",
      "26    0.367671\n",
      "13    3.213254\n",
      "12    3.871509\n",
      "11    4.057935\n",
      "10    4.816844\n",
      "9     5.151130\n",
      "8     5.762676\n",
      "7     6.197555\n",
      "6     6.905325\n",
      "5     7.182375\n",
      "4     7.822777\n",
      "3     8.212695\n",
      "2     8.799692\n",
      "1     9.091872\n",
      "0     9.808345\n",
      "Name: score, dtype: float64\n",
      "alpha_value: 1000\n",
      "2604.8316587837476 0.4933723230267537\n",
      "2582.2898029137305 0.498018206421904\n",
      "==========================================\n",
      "==========================================\n"
     ]
    },
    {
     "data": {
      "image/png": "[encoded data removed]",
      "text/plain": [
       "<Figure size 432x288 with 1 Axes>"
      ]
     },
     "metadata": {
      "needs_background": "light"
     },
     "output_type": "display_data"
    },
    {
     "name": "stdout",
     "output_type": "stream",
     "text": [
      "0      0\n",
      "2      2\n",
      "4      4\n",
      "1      1\n",
      "3      3\n",
      "5      5\n",
      "6      6\n",
      "8      8\n",
      "9      9\n",
      "7      7\n",
      "10    10\n",
      "11    11\n",
      "12    12\n",
      "13    13\n",
      "15    15\n",
      "16    16\n",
      "14    14\n",
      "17    31\n",
      "18    59\n",
      "Name: features, dtype: object\n",
      "2667.211051034302 0.4812536238101295\n",
      "2656.6367495154173 0.48356560177619046\n"
     ]
    },
    {
     "data": {
      "image/png": "[encoded data removed]",
      "text/plain": [
       "<Figure size 432x288 with 1 Axes>"
      ]
     },
     "metadata": {
      "needs_background": "light"
     },
     "output_type": "display_data"
    },
    {
     "name": "stdout",
     "output_type": "stream",
     "text": [
      "1       1\n",
      "2       2\n",
      "0       0\n",
      "3       3\n",
      "5       5\n",
      "4       4\n",
      "6       6\n",
      "7       7\n",
      "9       9\n",
      "8       8\n",
      "13     13\n",
      "10     10\n",
      "11     11\n",
      "12     12\n",
      "14     14\n",
      "15     15\n",
      "16     16\n",
      "18     18\n",
      "30     53\n",
      "51    113\n",
      "Name: features, dtype: object\n",
      "2651.2028546143947 0.4843738543847955\n",
      "2638.6335156136092 0.4870653234704938\n"
     ]
    }
   ],
   "source": [
    "#add correlation with certain covariates \n",
    "\n",
    "def gen_data(nobs, num_cov, m, num_relevant_cov, num_latent):\n",
    "    #each relevant cov is generates num_cov more...\n",
    "    \n",
    "    #only the first n of each is relevant...\n",
    "    x_1 = np.random.normal(scale=1., size=(nobs, num_relevant_cov))\n",
    "    x_2 = np.random.normal(scale=1., size=(nobs, num_cov))\n",
    "    x_3 = np.random.normal(scale=1., size=(nobs, num_latent))\n",
    "    \n",
    "    #add in the latent variable\n",
    "    tile_1 = np.tile(x_3,int(num_relevant_cov/num_latent))\n",
    "    tile_2 = np.tile(x_3,int(num_cov/num_latent))\n",
    "    x_1  = x_1 + tile_1\n",
    "    x_2 = x_2 + tile_2\n",
    "    \n",
    "    e = np.random.normal(loc=0.0, scale=1.0, size=(nobs))\n",
    "    m = np.arange(num_relevant_cov)[::-1]*m/num_relevant_cov\n",
    "    y = (x_1 * m).sum(axis=1) + e\n",
    "    X = np.column_stack((x_1, x_2))\n",
    "    return pd.DataFrame(y), pd.DataFrame(X)\n",
    "\n",
    "\n",
    "num_trials = 5\n",
    "y,X = gen_data(5000,100,10,20,2)\n",
    "training_test = train_test_pfold(X,y, num_trials = 5)\n",
    "\n",
    "\n",
    "# Vary alpha values\n",
    "a = [750,1000]\n",
    "\n",
    "for i in a: \n",
    "    run_lasso(i,training_test)\n",
    "    \n",
    "params = [(1,.2, 0.9, .9),(2,.1, 0.9, .5)]\n",
    "\n",
    "for a in params:\n",
    "    run_tree(a,training_test)"
   ]
  },
  {
   "cell_type": "code",
   "execution_count": null,
   "id": "f5a17538",
   "metadata": {
    "scrolled": false
   },
   "outputs": [
    {
     "name": "stdout",
     "output_type": "stream",
     "text": [
      "The autoreload extension is already loaded. To reload it, use:\n",
      "  %reload_ext autoreload\n"
     ]
    },
    {
     "data": {
      "image/png": "[encoded data removed]",
      "text/plain": [
       "<Figure size 432x288 with 1 Axes>"
      ]
     },
     "metadata": {
      "needs_background": "light"
     },
     "output_type": "display_data"
    },
    {
     "name": "stdout",
     "output_type": "stream",
     "text": [
      "11      2.960344\n",
      "80      2.986553\n",
      "104     3.158818\n",
      "64      3.222986\n",
      "15      3.498310\n",
      "54      3.774151\n",
      "109     3.792299\n",
      "91      4.135617\n",
      "68      4.187372\n",
      "99      4.628109\n",
      "8       4.949694\n",
      "95      5.103989\n",
      "7      10.918644\n",
      "6      17.439566\n",
      "4      22.838453\n",
      "5      25.438427\n",
      "3      32.007098\n",
      "2      33.281074\n",
      "1      38.288400\n",
      "0      41.084837\n",
      "Name: score, dtype: float64\n",
      "alpha_value: 750\n",
      "20683.984487979633 0.12738760274716393\n",
      "20307.593232601026 0.13296281208449334\n",
      "==========================================\n",
      "==========================================\n"
     ]
    },
    {
     "data": {
      "image/png": "[encoded data removed]",
      "text/plain": [
       "<Figure size 432x288 with 1 Axes>"
      ]
     },
     "metadata": {
      "needs_background": "light"
     },
     "output_type": "display_data"
    }
   ],
   "source": [
    "%load_ext autoreload\n",
    "%autoreload 2\n",
    "from ml_tools import *\n",
    "\n",
    "\n",
    "#add in interaction terms\n",
    "\n",
    "def gen_data(nobs, num_cov, m, num_relevant_cov,num_latent):\n",
    "    #each relevant cov is generates num_cov more...\n",
    "    \n",
    "    #only the first n of each is relevant...\n",
    "    x_1 = np.random.normal(scale=1., size=(nobs, num_relevant_cov))\n",
    "    x_2 = np.random.normal(scale=1., size=(nobs, num_cov))\n",
    "    #create all interations between x1 and x3\n",
    "    x_1_interact = np.zeros((nobs,num_relevant_cov*num_latent))\n",
    "    for i in range(num_relevant_cov):\n",
    "        for j in range(num_latent):\n",
    "            x_1_interact[:,i*j] = x_1[:,i]*x_2[:,j]\n",
    "    \n",
    "    e = np.random.normal(loc=0.0, scale=1.0, size=(nobs))\n",
    "    \n",
    "    m_coef = np.arange(num_relevant_cov)[::-1]*m/num_relevant_cov\n",
    "    #m_tile = 2*m*np.ones(num_relevant_cov*num_latent) \n",
    "    m_tile = np.tile(m_coef,num_latent)/2\n",
    "    y = (x_1 * m_coef).sum(axis=1) + (x_1_interact * m_tile).sum(axis=1) + e\n",
    "    \n",
    "    \n",
    "    X = np.column_stack((x_1, x_2))\n",
    "    return pd.DataFrame(y), pd.DataFrame(X)\n",
    "\n",
    "\n",
    "num_trials = 5\n",
    "y,X = gen_data(5000,100,50,10,20)\n",
    "training_test = train_test_pfold(X,y, num_trials = 5)\n",
    "\n",
    "\n",
    "# Vary alpha values\n",
    "a = [750,1000]\n",
    "\n",
    "for i in a: \n",
    "    run_lasso(i,training_test)\n",
    "    \n",
    "params = [(1,.2, 0.9, .9),(2,.1, 0.9, .5)]\n",
    "\n",
    "for a in params:\n",
    "    run_tree(a,training_test)"
   ]
  },
  {
   "cell_type": "code",
   "execution_count": null,
   "id": "3fcddcc0",
   "metadata": {},
   "outputs": [],
   "source": []
  },
  {
   "cell_type": "code",
   "execution_count": null,
   "id": "12a9773e",
   "metadata": {},
   "outputs": [],
   "source": []
  },
  {
   "cell_type": "code",
   "execution_count": null,
   "id": "623da65d",
   "metadata": {},
   "outputs": [],
   "source": []
  }
 ],
 "metadata": {
  "kernelspec": {
   "display_name": "Python 3 (ipykernel)",
   "language": "python",
   "name": "python3"
  },
  "language_info": {
   "codemirror_mode": {
    "name": "ipython",
    "version": 3
   },
   "file_extension": ".py",
   "mimetype": "text/x-python",
   "name": "python",
   "nbconvert_exporter": "python",
   "pygments_lexer": "ipython3",
   "version": "3.9.7"
  }
 },
 "nbformat": 4,
 "nbformat_minor": 5
}
